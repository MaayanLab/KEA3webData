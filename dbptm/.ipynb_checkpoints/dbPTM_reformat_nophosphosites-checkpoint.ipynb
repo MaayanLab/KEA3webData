{
 "cells": [
  {
   "cell_type": "code",
   "execution_count": 1,
   "metadata": {},
   "outputs": [],
   "source": [
    "import fileinput\n",
    "import csv"
   ]
  },
  {
   "cell_type": "code",
   "execution_count": 2,
   "metadata": {},
   "outputs": [],
   "source": [
    "# mouse and rat genes are in the ABC rather than Abc format\n",
    "\n",
    "def reformat_dbPTM1(): # substrate_phosphoSite still in list format\n",
    "    #fileOutput = open('dbPTM_prelimOutput1_hmr.gmt', 'w+')\n",
    "    kinases = ['AKT', 'CAMK1', 'CAMK2','CAMKL', 'CDK', 'CK1', 'CK2', 'DAPK', 'DMPK', 'DYRK', 'GRK', 'GSK', 'MAPK', 'MAPKAPK', 'MLCK', 'NDR', 'PDK1', 'PKA', 'PKC', 'PKD', 'PKG', 'PKN', 'RAD53', 'RSK', 'SGK']\n",
    "    organisms = ['human', 'mouse', 'rat']\n",
    "    d = dict((o, dict()) for o in organisms)\n",
    "    for o in organisms: # has all kinases though, so must post-process to\n",
    "        for k in kinases:\n",
    "            d[o][k] = []\n",
    "    #print(d)\n",
    "    \n",
    "    goodOrg = False # if the organism in organisms\n",
    "    for i in range(0, 25):\n",
    "        kinase = kinases[i]\n",
    "        fileInput = fileinput.FileInput('input/dbPTM_{0}_pos.txt'.format(kinase))\n",
    "        count = 0\n",
    "        organism = ''\n",
    "        for line in fileInput:\n",
    "            if count % 2 == 0:\n",
    "                organism = line.split('_')[1].lower()\n",
    "                if organism in organisms:\n",
    "                    goodOrg = True\n",
    "                    substrate = line.split('_')[0].replace(\">\", '')\n",
    "                    phosphosite = line.split('_')[2].strip('\\n')\n",
    "                else:\n",
    "                    goodOrg = False\n",
    "            elif count % 2 == 1:\n",
    "                if goodOrg:\n",
    "                    temp = int(len(line) / 2) - 1 # len includes 2 extra chars (\\n and \\t)\n",
    "                    newEntry = '{0}_{1}{2}'.format(substrate, line[temp], phosphosite)\n",
    "                    d[organism][kinase].append(newEntry)\n",
    "            count = count + 1\n",
    "\n",
    "    for o in organisms:\n",
    "        for k in kinases:\n",
    "            if len(d[o][k]) == 0:\n",
    "                del d[o][k]\n",
    "    \n",
    "    for o in organisms:\n",
    "        uSubs =  set() # unique substrates (substrates being substrate_phosphosite pair)\n",
    "        numKSI = 0\n",
    "        numKins = 0\n",
    "        allnp = open('output_dbPTM_all_{0}.gmt'.format(o), 'w+')\n",
    "        fnp = open('output_dbPTM_fourplusinteractions_{0}.gmt'.format(o), 'w+')\n",
    "        wr2 = csv.writer(allnp, delimiter = '\\t')\n",
    "        wr2a = csv.writer(fnp, delimiter = '\\t')\n",
    "        for k in d[o]:\n",
    "            #print(d[o][k]) # substrates (with psites)\n",
    "            no_psites = {x.split('_')[0] for x in d[o][k]}\n",
    "            no_psites = list(no_psites)\n",
    "            if len(no_psites) >= 4: # len(d[o][k]) = # substrates for kinase k\n",
    "                numKins += 1\n",
    "                numKSI += len(no_psites)\n",
    "                {uSubs.add(x) for x in no_psites}\n",
    "                \n",
    "                no_psites.insert(0, '{0}_dbPTM_{1}'.format(k, o))\n",
    "                wr2a.writerow(no_psites)\n",
    "                \n",
    "                # write to files for all interactions\n",
    "                wr2.writerow(no_psites)\n",
    "                \n",
    "            else: # write to files for all interactions\n",
    "                no_psites.insert(0, '{0}_dbPTM_{1}'.format(k, o))\n",
    "                \n",
    "                wr2.writerow(no_psites)\n",
    "                        \n",
    "                \n",
    "                \n",
    "        print('{0}\\t#kin: {1}\\t#ksi: {2}\\t#usubs: {3}'.format(o, numKins, numKSI, len(uSubs)))\n",
    "\n",
    "       "
   ]
  },
  {
   "cell_type": "code",
   "execution_count": 3,
   "metadata": {},
   "outputs": [
    {
     "name": "stdout",
     "output_type": "stream",
     "text": [
      "human\t#kin: 24\t#ksi: 3188\t#usubs: 1953\n",
      "mouse\t#kin: 21\t#ksi: 896\t#usubs: 646\n",
      "rat\t#kin: 19\t#ksi: 598\t#usubs: 412\n"
     ]
    }
   ],
   "source": [
    "reformat_dbPTM1()\n",
    "#[withoutPhosphosite1(o) for o in ['human', 'mouse', 'rat']]"
   ]
  },
  {
   "cell_type": "code",
   "execution_count": null,
   "metadata": {},
   "outputs": [],
   "source": []
  }
 ],
 "metadata": {
  "kernelspec": {
   "display_name": "Python 3",
   "language": "python",
   "name": "python3"
  },
  "language_info": {
   "codemirror_mode": {
    "name": "ipython",
    "version": 3
   },
   "file_extension": ".py",
   "mimetype": "text/x-python",
   "name": "python",
   "nbconvert_exporter": "python",
   "pygments_lexer": "ipython3",
   "version": "3.7.3"
  }
 },
 "nbformat": 4,
 "nbformat_minor": 2
}
