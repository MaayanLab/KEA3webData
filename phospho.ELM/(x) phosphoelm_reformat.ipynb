{
 "cells": [
  {
   "cell_type": "code",
   "execution_count": 7,
   "metadata": {},
   "outputs": [],
   "source": [
    "import pandas as pd\n",
    "import fileinput"
   ]
  },
  {
   "cell_type": "code",
   "execution_count": 8,
   "metadata": {},
   "outputs": [
    {
     "data": {
      "text/html": [
       "<div>\n",
       "<style scoped>\n",
       "    .dataframe tbody tr th:only-of-type {\n",
       "        vertical-align: middle;\n",
       "    }\n",
       "\n",
       "    .dataframe tbody tr th {\n",
       "        vertical-align: top;\n",
       "    }\n",
       "\n",
       "    .dataframe thead th {\n",
       "        text-align: right;\n",
       "    }\n",
       "</style>\n",
       "<table border=\"1\" class=\"dataframe\">\n",
       "  <thead>\n",
       "    <tr style=\"text-align: right;\">\n",
       "      <th></th>\n",
       "      <th>acc</th>\n",
       "      <th>sequence</th>\n",
       "      <th>position</th>\n",
       "      <th>code</th>\n",
       "      <th>pmids</th>\n",
       "      <th>kinases</th>\n",
       "      <th>source</th>\n",
       "      <th>species</th>\n",
       "      <th>entry_date</th>\n",
       "    </tr>\n",
       "  </thead>\n",
       "  <tbody>\n",
       "    <tr>\n",
       "      <th>14</th>\n",
       "      <td>O14543</td>\n",
       "      <td>MVTHSKFPAAGMSRPLDTSLRLKTFSSKSEYQLVVNAVRKLQESGF...</td>\n",
       "      <td>204</td>\n",
       "      <td>Y</td>\n",
       "      <td>12783885</td>\n",
       "      <td>Lck</td>\n",
       "      <td>LTP</td>\n",
       "      <td>Homo sapiens</td>\n",
       "      <td>2006-10-17 12:06:48.16767+02</td>\n",
       "    </tr>\n",
       "    <tr>\n",
       "      <th>16</th>\n",
       "      <td>O14543</td>\n",
       "      <td>MVTHSKFPAAGMSRPLDTSLRLKTFSSKSEYQLVVNAVRKLQESGF...</td>\n",
       "      <td>221</td>\n",
       "      <td>Y</td>\n",
       "      <td>15173187</td>\n",
       "      <td>Lck</td>\n",
       "      <td>LTP</td>\n",
       "      <td>Homo sapiens</td>\n",
       "      <td>2006-10-17 12:06:48.271076+02</td>\n",
       "    </tr>\n",
       "    <tr>\n",
       "      <th>18</th>\n",
       "      <td>O14746</td>\n",
       "      <td>MPRAPRCRAVRSLLRSHYREVLPLATFVRRLGPQGWRLVQRGDPAA...</td>\n",
       "      <td>824</td>\n",
       "      <td>S</td>\n",
       "      <td>10224060</td>\n",
       "      <td>PKB_group</td>\n",
       "      <td>LTP</td>\n",
       "      <td>Homo sapiens</td>\n",
       "      <td>2004-12-31 00:00:00+01</td>\n",
       "    </tr>\n",
       "    <tr>\n",
       "      <th>20</th>\n",
       "      <td>O14746</td>\n",
       "      <td>MPRAPRCRAVRSLLRSHYREVLPLATFVRRLGPQGWRLVQRGDPAA...</td>\n",
       "      <td>227</td>\n",
       "      <td>S</td>\n",
       "      <td>10224060</td>\n",
       "      <td>PKB_group</td>\n",
       "      <td>LTP</td>\n",
       "      <td>Homo sapiens</td>\n",
       "      <td>2004-12-31 00:00:00+01</td>\n",
       "    </tr>\n",
       "    <tr>\n",
       "      <th>21</th>\n",
       "      <td>O14746</td>\n",
       "      <td>MPRAPRCRAVRSLLRSHYREVLPLATFVRRLGPQGWRLVQRGDPAA...</td>\n",
       "      <td>707</td>\n",
       "      <td>Y</td>\n",
       "      <td>12808100</td>\n",
       "      <td>SRC</td>\n",
       "      <td>LTP</td>\n",
       "      <td>Homo sapiens</td>\n",
       "      <td>2006-10-17 11:57:52.221615+02</td>\n",
       "    </tr>\n",
       "  </tbody>\n",
       "</table>\n",
       "</div>"
      ],
      "text/plain": [
       "       acc                                           sequence  position code  \\\n",
       "14  O14543  MVTHSKFPAAGMSRPLDTSLRLKTFSSKSEYQLVVNAVRKLQESGF...       204    Y   \n",
       "16  O14543  MVTHSKFPAAGMSRPLDTSLRLKTFSSKSEYQLVVNAVRKLQESGF...       221    Y   \n",
       "18  O14746  MPRAPRCRAVRSLLRSHYREVLPLATFVRRLGPQGWRLVQRGDPAA...       824    S   \n",
       "20  O14746  MPRAPRCRAVRSLLRSHYREVLPLATFVRRLGPQGWRLVQRGDPAA...       227    S   \n",
       "21  O14746  MPRAPRCRAVRSLLRSHYREVLPLATFVRRLGPQGWRLVQRGDPAA...       707    Y   \n",
       "\n",
       "       pmids    kinases source       species                     entry_date  \n",
       "14  12783885        Lck    LTP  Homo sapiens   2006-10-17 12:06:48.16767+02  \n",
       "16  15173187        Lck    LTP  Homo sapiens  2006-10-17 12:06:48.271076+02  \n",
       "18  10224060  PKB_group    LTP  Homo sapiens         2004-12-31 00:00:00+01  \n",
       "20  10224060  PKB_group    LTP  Homo sapiens         2004-12-31 00:00:00+01  \n",
       "21  12808100        SRC    LTP  Homo sapiens  2006-10-17 11:57:52.221615+02  "
      ]
     },
     "execution_count": 8,
     "metadata": {},
     "output_type": "execute_result"
    }
   ],
   "source": [
    "# read in data ----- there is also mouse and rat data. i will only be using human for now\n",
    "df = pd.read_csv('input/phosphoELM_vertebrate_2015-04.dump', sep = '\\t')\n",
    "df = df.dropna(subset = ['kinases'])\n",
    "df = df[df.species == 'Homo sapiens'] # only using human data\n",
    "df.head()"
   ]
  },
  {
   "cell_type": "code",
   "execution_count": 9,
   "metadata": {},
   "outputs": [],
   "source": [
    "# file with gene symbol and uniprotid\n",
    "df1 = pd.read_csv('input/genesymboltouniprot_hgnc.txt', sep = '\\t')\n",
    "df1 = df1.dropna()\n",
    "df1.head()\n",
    "\n",
    "# map uniprot id to list of approved symbols\n",
    "di = {} # {uniprot id, [approved symbol(s)]}\n",
    "for p1, p2 in zip(list(df1.loc[:, 'Approved symbol']), list(df1.loc[:, 'UniProt ID(supplied by UniProt)'])):\n",
    "    if p2 in di:\n",
    "        di[p2].append(p1)\n",
    "    else:\n",
    "        di[p2] = [p1]"
   ]
  },
  {
   "cell_type": "code",
   "execution_count": 10,
   "metadata": {},
   "outputs": [],
   "source": [
    "# read in list of human kinases\n",
    "inp = fileinput.FileInput('input/kinases_human.txt')\n",
    "pkin = []\n",
    "for line in inp:\n",
    "    pkin.append(line.split('\\n')[0])\n"
   ]
  },
  {
   "cell_type": "code",
   "execution_count": 11,
   "metadata": {},
   "outputs": [
    {
     "name": "stdout",
     "output_type": "stream",
     "text": [
      "77\n"
     ]
    }
   ],
   "source": [
    "# find ksis -- filtering using pkin because some 'kinases' in table are kinase groups\n",
    "d = {}\n",
    "for p1, k in zip(df.loc[:, 'acc'], df.loc[:, 'kinases']):\n",
    "    if p1 in di:\n",
    "        p1 = di[p1]\n",
    "        if k in pkin:\n",
    "            for x in p1:\n",
    "                if k not in d:\n",
    "                    d[k] = {x}\n",
    "                else:\n",
    "                    d[k].add(x)\n",
    "print(len(d))"
   ]
  },
  {
   "cell_type": "code",
   "execution_count": 12,
   "metadata": {},
   "outputs": [
    {
     "name": "stdout",
     "output_type": "stream",
     "text": [
      "human\n",
      "#kin: 77\t#ksi: 493\t#usubs: 359\n"
     ]
    }
   ],
   "source": [
    "# write to file, do calculations\n",
    "allnp = open('output_phosphoelm_all_human.gmt', 'w+')\n",
    "fnp = open('output_phosphoelm_fourplusinterations_human.gmt', 'w+')\n",
    "uSubs = set()\n",
    "numKSI = 0\n",
    "for k in d:\n",
    "    temp = '{0}_phosphoelm_human'.format(k)\n",
    "    for i in d[k]:\n",
    "        numKSI += 1\n",
    "        uSubs.add(i)\n",
    "        temp += '\\t{0}'.format(i)\n",
    "    allnp.write('{0}\\n'.format(temp))\n",
    "    if len(d[k]) >= 4:\n",
    "        fnp.write('{0}\\n'.format(temp))\n",
    "        \n",
    "print('{0}\\n#kin: {1}\\t#ksi: {2}\\t#usubs: {3}'.format('human', len(d), numKSI, len(uSubs)))"
   ]
  },
  {
   "cell_type": "code",
   "execution_count": null,
   "metadata": {},
   "outputs": [],
   "source": []
  },
  {
   "cell_type": "code",
   "execution_count": null,
   "metadata": {},
   "outputs": [],
   "source": []
  }
 ],
 "metadata": {
  "kernelspec": {
   "display_name": "Python 3",
   "language": "python",
   "name": "python3"
  },
  "language_info": {
   "codemirror_mode": {
    "name": "ipython",
    "version": 3
   },
   "file_extension": ".py",
   "mimetype": "text/x-python",
   "name": "python",
   "nbconvert_exporter": "python",
   "pygments_lexer": "ipython3",
   "version": "3.7.3"
  }
 },
 "nbformat": 4,
 "nbformat_minor": 2
}
