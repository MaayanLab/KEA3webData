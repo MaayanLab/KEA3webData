{
 "cells": [
  {
   "cell_type": "code",
   "execution_count": 2,
   "metadata": {},
   "outputs": [],
   "source": [
    "import os\n",
    "import fileinput\n",
    "import csv"
   ]
  },
  {
   "cell_type": "code",
   "execution_count": 3,
   "metadata": {},
   "outputs": [],
   "source": [
    "# Find all fourplusinteraction, human .gmt files\n",
    "filenames = [] # List of all gmt files\n",
    "for root, dirs, files in os.walk(os.getcwd()):\n",
    "    for file in files:\n",
    "        if file.endswith(\"fourplusinteractions_human.gmt\") and \"with\" not in file:\n",
    "             filenames.append(os.path.join(root, file))"
   ]
  },
  {
   "cell_type": "code",
   "execution_count": 4,
   "metadata": {},
   "outputs": [],
   "source": [
    "# Read in dataframe (Approved, Alias). For aliases with multiple approved symbols, one approved symbol was selected uar \n",
    "hgnc = fileinput.FileInput(\"/Users/ingridshu/Documents/Icahn_Summer19/KEA3_kinasedata/KEA3webData/hgnc_dictionary.tsv\")\n",
    "mapped = {}\n",
    "for line in hgnc:\n",
    "    approved = line.split('\\t')[0].strip()\n",
    "    alias = line.split('\\t')[1].strip()\n",
    "    # there are aliases that map to different approved symbols. Taking the first \n",
    "    '''if alias in map:\n",
    "        print(alias)'''\n",
    "    mapped[alias] = approved"
   ]
  },
  {
   "cell_type": "code",
   "execution_count": 6,
   "metadata": {},
   "outputs": [],
   "source": [
    "for fn in filenames:\n",
    "    fileInput = fileinput.FileInput(fn)\n",
    "    lib = fn.split('/')[7]\n",
    "    d = {}\n",
    "    for line in fileInput:\n",
    "        if 'Alias' not in line:\n",
    "            kin = line.split('\\t')[0].split('_')[0].upper() # Unmatched kinases\n",
    "            subs = [''.join(x.split('-')).upper() for x in line.split('\\t')[1:]] # Unmatched substrates\n",
    "            # map kinase name -- trailing \"\\n\"??????\n",
    "            if kin in mapped:\n",
    "                kin = mapped[kin].strip()\n",
    "            else:\n",
    "                continue\n",
    "            # map substrate names\n",
    "            subs = {mapped[x].strip() for x in subs if x in mapped}\n",
    "            if len(subs) >= 4: # Only keep kinases with four or more interactions\n",
    "                d[kin] = subs\n",
    "    fileoutput = open('/Users/ingridshu/Documents/Icahn_Summer19/KEA3_kinasedata/KEA3webData/matched_human-fourplusinteractions/{0}_matched.gmt'.format(fn.split('/')[8]), 'w+')\n",
    "    for k in d:\n",
    "        fileoutput.write('{0}_{1}_human\\t{2}\\n'.format(k, lib, '\\t'.join(d[k])))"
   ]
  },
  {
   "cell_type": "code",
   "execution_count": null,
   "metadata": {},
   "outputs": [],
   "source": []
  },
  {
   "cell_type": "code",
   "execution_count": null,
   "metadata": {},
   "outputs": [],
   "source": []
  }
 ],
 "metadata": {
  "kernelspec": {
   "display_name": "Python 3",
   "language": "python",
   "name": "python3"
  },
  "language_info": {
   "codemirror_mode": {
    "name": "ipython",
    "version": 3
   },
   "file_extension": ".py",
   "mimetype": "text/x-python",
   "name": "python",
   "nbconvert_exporter": "python",
   "pygments_lexer": "ipython3",
   "version": "3.6.5"
  }
 },
 "nbformat": 4,
 "nbformat_minor": 2
}
