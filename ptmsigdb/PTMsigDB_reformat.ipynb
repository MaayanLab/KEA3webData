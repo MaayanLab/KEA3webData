{
 "cells": [
  {
   "cell_type": "code",
   "execution_count": 1,
   "metadata": {},
   "outputs": [],
   "source": [
    "import fileinput\n",
    "import csv"
   ]
  },
  {
   "cell_type": "code",
   "execution_count": 2,
   "metadata": {},
   "outputs": [],
   "source": [
    "def reformat1(o):\n",
    "    fileInput = fileinput.FileInput('input/ptm.sig.db.all.flanking.{0}.v1.9.0.gmt'.format(o))\n",
    "    \n",
    "    uKins = set() # unique kinases\n",
    "    uSubs = set() # unique substrates\n",
    "    numKSI = 0\n",
    "    \n",
    "    allwp = open('output-withphosphosite_ptmsigdb_all_{0}.gmt'.format(o), 'w+') # w phosphosite\n",
    "    fwp = open('output-withphosphosite_ptmsigdb_fourplusinteractions_{0}.gmt'.format(o), 'w+')\n",
    "    '''allnp = open('output_ptmsigdb_all_{0}.gmt'.format(o), 'w+')\n",
    "    fnp = open('output_ptmsigdb_fourplusinteractions_{0}.gmt'.format(o), 'w+')'''\n",
    "    wr1 = csv.writer(allwp, delimiter = '\\t')\n",
    "    wr1a = csv.writer(fwp, delimiter = '\\t')\n",
    "    '''wr2 = csv.writer(allnp, delimiter = '\\t')\n",
    "    wr2a = csv.writer(fnp, delimiter = '\\t')'''\n",
    "    \n",
    "    \n",
    "    for line in fileInput:\n",
    "        if line.split('-')[0] == 'KINASE':\n",
    "            kinase = line.split('_')[1].split('\t')[0]\n",
    "            if '/' in kinase:\n",
    "                kinase = kinase.split('/')[1]\n",
    "            temp = line.split('|')\n",
    "            subs = [temp[i] for i in range(1, len(temp) - 1)]\n",
    "            # print(subs)\n",
    "            \n",
    "            if len(subs) >= 4:\n",
    "                # modify counts\n",
    "                uKins.add(kinase)\n",
    "                numKSI += len(subs)\n",
    "                {uSubs.add(x) for x in subs}\n",
    "                temp = list({x.split('_')[0] for x in subs})\n",
    "                \n",
    "                [subs.insert(0, '{0}_ptmsigdb_{1}'.format(kinase, o))]\n",
    "                [temp.insert(0, '{0}_ptmsigdb_{1}'.format(kinase, o))]\n",
    "                \n",
    "                # write to _fourplusinteractions files\n",
    "                wr1a.writerow(subs)\n",
    "                #wr2a.writerow(temp)\n",
    "                \n",
    "                # write to _all files\n",
    "                wr1.writerow(subs)\n",
    "                #wr2.writerow(temp)\n",
    "            \n",
    "            else:\n",
    "                # write to _all files\n",
    "                [subs.insert(0, '{0}_ptmsigdb_{1}'.format(kinase, o))]\n",
    "                [temp.insert(0, '{0}_ptmsigdb_{1}'.format(kinase, o))]\n",
    "                wr1.writerow(subs)\n",
    "                #wr2.writerow(temp)\n",
    "                             \n",
    "    print('{0}\\t#kin: {1}\\t#ksi: {2}\\t#usubs: {3}'.format(o, len(uKins), numKSI, len(uSubs)))"
   ]
  },
  {
   "cell_type": "code",
   "execution_count": 3,
   "metadata": {},
   "outputs": [
    {
     "name": "stdout",
     "output_type": "stream",
     "text": [
      "human\t#kin: 227\t#ksi: 9928\t#usubs: 7155\n",
      "mouse\t#kin: 73\t#ksi: 1377\t#usubs: 1117\n",
      "rat\t#kin: 43\t#ksi: 706\t#usubs: 586\n"
     ]
    }
   ],
   "source": [
    "reformat1('human')\n",
    "reformat1('mouse')\n",
    "reformat1('rat')"
   ]
  },
  {
   "cell_type": "code",
   "execution_count": null,
   "metadata": {},
   "outputs": [],
   "source": []
  }
 ],
 "metadata": {
  "kernelspec": {
   "display_name": "Python 3",
   "language": "python",
   "name": "python3"
  },
  "language_info": {
   "codemirror_mode": {
    "name": "ipython",
    "version": 3
   },
   "file_extension": ".py",
   "mimetype": "text/x-python",
   "name": "python",
   "nbconvert_exporter": "python",
   "pygments_lexer": "ipython3",
   "version": "3.7.3"
  }
 },
 "nbformat": 4,
 "nbformat_minor": 2
}
