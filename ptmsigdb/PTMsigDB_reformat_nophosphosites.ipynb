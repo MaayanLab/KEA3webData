{
 "cells": [
  {
   "cell_type": "code",
   "execution_count": 1,
   "metadata": {},
   "outputs": [],
   "source": [
    "import fileinput\n",
    "import csv"
   ]
  },
  {
   "cell_type": "code",
   "execution_count": 12,
   "metadata": {},
   "outputs": [],
   "source": [
    "def reformat1(o):\n",
    "    fileInput = fileinput.FileInput('input/ptm.sig.db.all.flanking.{0}.v1.9.0.gmt'.format(o))\n",
    "    \n",
    "    uKins = set() # unique kinases\n",
    "    uSubs = set() # unique substrates\n",
    "    numKSI = 0\n",
    "    \n",
    "    allnp = open('output_ptmsigdb_all_{0}.gmt'.format(o), 'w+')\n",
    "    fnp = open('output_ptmsigdb_fourplusinteractions_{0}.gmt'.format(o), 'w+')\n",
    "    wr2 = csv.writer(allnp, delimiter = '\\t')\n",
    "    wr2a = csv.writer(fnp, delimiter = '\\t')\n",
    "    \n",
    "    \n",
    "    for line in fileInput:\n",
    "        if line.split('-')[0] == 'KINASE':\n",
    "            kinase = line.split('_')[1].split('\t')[0]\n",
    "            if '/' in kinase:\n",
    "                kinase = kinase.split('/')[1]\n",
    "            temp = line.split('|')\n",
    "            subs = [temp[i] for i in range(1, len(temp) - 1)]\n",
    "            subs = list({x.split('_')[0] for x in subs})\n",
    "                        \n",
    "            if len(subs) >= 4:\n",
    "                # modify counts\n",
    "                uKins.add(kinase)\n",
    "                numKSI += len(subs)\n",
    "                {uSubs.add(x) for x in subs}\n",
    "                \n",
    "                [subs.insert(0, '{0}_ptmsigdb_{1}'.format(kinase, o))]\n",
    "                \n",
    "                # write to _fourplusinteractions files\n",
    "                #wr1a.writerow(subs)\n",
    "                wr2a.writerow(subs)\n",
    "                \n",
    "                # write to _all files\n",
    "                #wr1.writerow(subs)\n",
    "                wr2.writerow(subs)\n",
    "            \n",
    "            else:\n",
    "                # write to _all files\n",
    "                [subs.insert(0, '{0}_ptmsigdb_{1}'.format(kinase, o))]\n",
    "                #wr1.writerow(subs)\n",
    "                wr2.writerow(subs)\n",
    "                             \n",
    "    print('{0}\\t#kin: {1}\\t#ksi: {2}\\t#usubs: {3}'.format(o, len(uKins), numKSI, len(uSubs)))"
   ]
  },
  {
   "cell_type": "code",
   "execution_count": 13,
   "metadata": {},
   "outputs": [
    {
     "name": "stdout",
     "output_type": "stream",
     "text": [
      "human\t#kin: 187\t#ksi: 5306\t#usubs: 2268\n",
      "mouse\t#kin: 50\t#ksi: 778\t#usubs: 515\n",
      "rat\t#kin: 25\t#ksi: 360\t#usubs: 241\n"
     ]
    }
   ],
   "source": [
    "reformat1('human')\n",
    "reformat1('mouse')\n",
    "reformat1('rat')"
   ]
  },
  {
   "cell_type": "code",
   "execution_count": null,
   "metadata": {},
   "outputs": [],
   "source": []
  }
 ],
 "metadata": {
  "kernelspec": {
   "display_name": "Python 3",
   "language": "python",
   "name": "python3"
  },
  "language_info": {
   "codemirror_mode": {
    "name": "ipython",
    "version": 3
   },
   "file_extension": ".py",
   "mimetype": "text/x-python",
   "name": "python",
   "nbconvert_exporter": "python",
   "pygments_lexer": "ipython3",
   "version": "3.7.3"
  }
 },
 "nbformat": 4,
 "nbformat_minor": 2
}
