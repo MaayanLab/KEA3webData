{
 "cells": [
  {
   "cell_type": "code",
   "execution_count": 3,
   "metadata": {},
   "outputs": [],
   "source": [
    "import pandas as pd\n",
    "import re"
   ]
  },
  {
   "cell_type": "code",
   "execution_count": 75,
   "metadata": {},
   "outputs": [],
   "source": [
    "def reformat(o, n):\n",
    "    # input data\n",
    "    df = pd.read_csv('inputData/{0}'.format(n), delimiter = ';')\n",
    "    df.loc[:, ['Gene A', 'Gene B']]\n",
    "    prot1 = list(df.loc[:, 'Gene A'])\n",
    "    prot2 = list(df.loc[:, 'Gene B'])\n",
    "\n",
    "    # list of kinases from uniprot / swissprot\n",
    "    pkin = open('inputData/pkinfam.txt', 'r')\n",
    "    pkinases = [] # all kinases for o listed in pkinfam.txt (uniprot)\n",
    "    count = 0\n",
    "    if o == 'human':\n",
    "        for str in pkin:\n",
    "            if count < 84: # not useful info\n",
    "                count = count + 1\n",
    "                continue\n",
    "            elif '_{0}'.format(o.upper()) in str:\n",
    "                temp = re.findall(r'(\\s\\w+)_{0}'.format(o.upper()), str)[0].strip() # name of kinase\n",
    "                pkinases.append(temp)\n",
    "            count = count + 1\n",
    "\n",
    "    d = {}\n",
    "    for p1, p2 in zip(prot1, prot2):\n",
    "        if ' ' in p1:\n",
    "            p1 = p1.split(' ')[0]\n",
    "        if ' ' in p2:\n",
    "            p2 = p2.split(' ')[0]\n",
    "        if p1 in pkinases:\n",
    "            if p1 not in d:\n",
    "                d[p1] = {p2}\n",
    "            else:\n",
    "                temp = d[p1]\n",
    "                temp.add(p2)\n",
    "                d[p1] = temp\n",
    "        if p2 in pkinases:\n",
    "            if p2 not in d:\n",
    "                d[p2] = {p1}\n",
    "            else:\n",
    "                temp = d[p2]\n",
    "                temp.add(p1)\n",
    "                d[p2] = temp\n",
    "    \n",
    "    fileOutput = open('output_mentha_all_{0}.gmt'.format(o), 'w+')\n",
    "    fO1 = open('output_mentha_fourplusinteractions_{0}.gmt'.format(o), 'w+')\n",
    "    numKins = 0\n",
    "    numInters = 0\n",
    "    uSubs = set()\n",
    "    for k in d:\n",
    "        temp = '{0}_mentha_{1}\\t'.format(k, o)\n",
    "        numKins += 1\n",
    "        for s in d[k]:\n",
    "            uSubs.add(s)\n",
    "            numInters += 1\n",
    "            temp = '{0}\\t{1}'.format(temp, s)\n",
    "        fileOutput.write('{0}\\n'.format(temp))\n",
    "        lst = temp.split('\\t')\n",
    "        if len(lst) > 5:\n",
    "            fO1.write('{0}\\n'.format(temp))\n",
    "\n",
    "    print(numKins)\n",
    "    print('{4}\\t# kins: {0}\\tnum ksis: {1}\\tnum unique subs: {2}\\tavg num ksi per k: {3}'.format(numKins, numInters, len(uSubs), int(float(numInters) / float(numKins)), o))\n",
    " \n"
   ]
  },
  {
   "cell_type": "code",
   "execution_count": 76,
   "metadata": {
    "scrolled": true
   },
   "outputs": [
    {
     "name": "stdout",
     "output_type": "stream",
     "text": [
      "319\n",
      "human\t# kins: 319\tnum ksis: 23404\tnum unique subs: 7687\tavg num ksi per k: 73\n"
     ]
    }
   ],
   "source": [
    "reformat('human','9606') # human\n",
    "#reformat('mouse', '10090') # mouse\n",
    "#reformat('10116') # rat - don't have list of kinases for rat"
   ]
  },
  {
   "cell_type": "code",
   "execution_count": 73,
   "metadata": {},
   "outputs": [],
   "source": [
    "def reformat_mouse(o, n):\n",
    "    # input data\n",
    "    df = pd.read_csv('inputData/10090', delimiter = ';')\n",
    "    df.loc[:, ['Gene A', 'Gene B']]\n",
    "    prot1 = list(df.loc[:, 'Gene A'])\n",
    "    prot2 = list(df.loc[:, 'Gene B'])\n",
    "\n",
    "\n",
    "    # list of kinases from uniprot / swissprot\n",
    "    pkin = open('inputData/pkinfam.txt', 'r')\n",
    "    pkinases = [] # all kinases for o listed in pkinfam.txt (uniprot)\n",
    "    count = 0\n",
    "\n",
    "    for str in pkin:\n",
    "        if count < 83: # not useful info\n",
    "            count = count + 1\n",
    "            continue\n",
    "        elif '_{0}'.format(o.upper()) in str:\n",
    "            temp = re.findall(r'(\\s\\w+)_{0}'.format(o.upper()), str)[0].strip() # name of kinase\n",
    "            temp = '{0}{1}'.format(temp[0:1], temp[1:].lower())\n",
    "            pkinases.append(temp)\n",
    "        count = count + 1\n",
    "            \n",
    "    d = {}\n",
    "    for p1, p2 in zip(prot1, prot2):\n",
    "        if ' ' in p1:\n",
    "            p1 = p1.split(' ')[0]\n",
    "        if ' '\n",
    "        if '{0}{1}'.format(p1[0:1], p1[1:].lower()) in pkinases:\n",
    "            if p1 not in d:\n",
    "                d[p1] = {p2}\n",
    "            else:\n",
    "                temp = d[p1]\n",
    "                temp.add(p2)\n",
    "                d[p1] = temp\n",
    "        if '{0}{1}'.format(p2[0:1], p2[1:].lower()) in pkinases:\n",
    "            if p2 not in d:\n",
    "                d[p2] = {p1}\n",
    "            else:\n",
    "                temp = d[p2]\n",
    "                temp.add(p1)\n",
    "                d[p2] = temp\n",
    "    \n",
    "    fileOutput = open('output_mentha_all_{0}.gmt'.format(o), 'w+')\n",
    "    fO1 = open('output_mentha_fourplusinteractions_{0}.gmt'.format(o), 'w+')\n",
    "    numKins = 0\n",
    "    numInters = 0\n",
    "    uSubs = set()\n",
    "    for k in d:\n",
    "        temp = '{0}{1}_mentha_{2}\\t'.format(k[0:1], k[1:].lower(), o)\n",
    "        numKins += 1\n",
    "        for s in d[k]:\n",
    "            uSubs.add(s)\n",
    "            numInters += 1\n",
    "            temp = '{0}\\t{1}{2}'.format(temp, s[0:1], s[1:].lower())\n",
    "        fileOutput.write('{0}\\n'.format(temp))\n",
    "        lst = temp.split('\\t')\n",
    "        if len(lst) > 5:\n",
    "            fO1.write('{0}\\n'.format(temp))\n",
    "\n",
    "    print(numKins)\n",
    "    print('{4}\\t# kins: {0}\\tnum ksis: {1}\\tnum unique subs: {2}\\tavg num ksi per k: {3}'.format(numKins, numInters, len(uSubs), int(float(numInters) / float(numKins)), o))\n",
    " \n"
   ]
  },
  {
   "cell_type": "code",
   "execution_count": 77,
   "metadata": {},
   "outputs": [
    {
     "name": "stdout",
     "output_type": "stream",
     "text": [
      "224\n",
      "mouse\t# kins: 224\tnum ksis: 2099\tnum unique subs: 1245\tavg num ksi per k: 9\n"
     ]
    }
   ],
   "source": [
    "reformat_mouse('mouse', '10090')"
   ]
  },
  {
   "cell_type": "code",
   "execution_count": null,
   "metadata": {},
   "outputs": [],
   "source": []
  },
  {
   "cell_type": "code",
   "execution_count": null,
   "metadata": {},
   "outputs": [],
   "source": []
  }
 ],
 "metadata": {
  "kernelspec": {
   "display_name": "Python 3",
   "language": "python",
   "name": "python3"
  },
  "language_info": {
   "codemirror_mode": {
    "name": "ipython",
    "version": 3
   },
   "file_extension": ".py",
   "mimetype": "text/x-python",
   "name": "python",
   "nbconvert_exporter": "python",
   "pygments_lexer": "ipython3",
   "version": "3.7.3"
  }
 },
 "nbformat": 4,
 "nbformat_minor": 2
}
