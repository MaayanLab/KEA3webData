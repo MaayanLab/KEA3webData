{
 "cells": [
  {
   "cell_type": "code",
   "execution_count": 18,
   "metadata": {},
   "outputs": [],
   "source": [
    "import pandas as pd\n",
    "import fileinput\n",
    "import re"
   ]
  },
  {
   "cell_type": "code",
   "execution_count": 19,
   "metadata": {},
   "outputs": [],
   "source": [
    "def reformat(o, n):\n",
    "    # input data\n",
    "    df = pd.read_csv('input/{0}'.format(n), delimiter = ';')\n",
    "    \n",
    "    # list of kinases from uniprot / swissprot\n",
    "    inp = fileinput.FileInput('input/kinases_mouse.txt')\n",
    "    pkin = []\n",
    "    for line in inp:\n",
    "        pkin.append(line.split('\\n')[0])\n",
    "\n",
    "    \n",
    "    # find KSI\n",
    "    d = {}\n",
    "    for p1, p2 in zip(list(df.loc[:, 'Gene A']), list(df.loc[:, 'Gene B'])):\n",
    "        p1 = '{0}{1}'.format(p1[0:1], p1[1:].lower()) # bc mouse kinases are denoted as ABC rather than Abc (which is the form we use)\n",
    "        p2 = '{0}{1}'.format(p2[0:1], p2[1:].lower())\n",
    "        p1 = p1.split(' ')[0].strip()\n",
    "        p2 = p2.split(' ')[0].strip()\n",
    "        if p1 in pkin:\n",
    "            if p1 not in d:\n",
    "                d[p1] = {p2}\n",
    "            else:\n",
    "                d[p1].add(p2)\n",
    "        if p2 in pkin:\n",
    "            if p2 not in d:\n",
    "                d[p2] = {p1}\n",
    "            else:\n",
    "                d[p2].add(p1)\n",
    "    \n",
    "    # write to file\n",
    "    allnp = open('output_mentha_all_{0}.gmt'.format(o), 'w+')\n",
    "    fnp = open('output_mentha_fourplusinteractions_{0}.gmt'.format(o), 'w+')\n",
    "    uKins = 0\n",
    "    uSubs = set()\n",
    "    numKSI = 0\n",
    "    for k in d:\n",
    "        allnp.write('{0}_mentha_{1}\\t'.format(k, o) + '\\t'.join(d[k]) + '\\n')\n",
    "        if len(d[k]) >= 4:\n",
    "            numKSI += len(d[k])\n",
    "            uKins += 1\n",
    "            {uSubs.add(x) for x in d[k]}            \n",
    "            fnp.write('{0}_mentha_{1}\\t'.format(k, o) + '\\t'.join(d[k]) + '\\n')\n",
    "\n",
    "    print('{0}\\n#kin: {1}\\t#ksi: {2}\\t#usubs: {3}'.format(o, uKins, numKSI, len(uSubs)))\n",
    "    \n",
    "    allnp.close()\n",
    "    fnp.close()"
   ]
  },
  {
   "cell_type": "code",
   "execution_count": 20,
   "metadata": {},
   "outputs": [
    {
     "name": "stdout",
     "output_type": "stream",
     "text": [
      "mouse\n",
      "#kin: 101\t#ksi: 1887\t#usubs: 1198\n"
     ]
    }
   ],
   "source": [
    "reformat('mouse', '10090')"
   ]
  },
  {
   "cell_type": "code",
   "execution_count": null,
   "metadata": {},
   "outputs": [],
   "source": []
  },
  {
   "cell_type": "code",
   "execution_count": null,
   "metadata": {},
   "outputs": [],
   "source": []
  }
 ],
 "metadata": {
  "kernelspec": {
   "display_name": "Python 3",
   "language": "python",
   "name": "python3"
  },
  "language_info": {
   "codemirror_mode": {
    "name": "ipython",
    "version": 3
   },
   "file_extension": ".py",
   "mimetype": "text/x-python",
   "name": "python",
   "nbconvert_exporter": "python",
   "pygments_lexer": "ipython3",
   "version": "3.7.3"
  }
 },
 "nbformat": 4,
 "nbformat_minor": 2
}
