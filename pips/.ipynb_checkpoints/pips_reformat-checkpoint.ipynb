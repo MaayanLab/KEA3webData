{
 "cells": [
  {
   "cell_type": "code",
   "execution_count": 1,
   "metadata": {},
   "outputs": [],
   "source": [
    "import pandas as pd\n",
    "import fileinput"
   ]
  },
  {
   "cell_type": "code",
   "execution_count": 5,
   "metadata": {},
   "outputs": [
    {
     "name": "stdout",
     "output_type": "stream",
     "text": [
      "human\t#kins: 162\t#ksi: 8351\t#usubs: 1729\n"
     ]
    },
    {
     "data": {
      "text/plain": [
       "\"allnp = open('output_pips_all_human.gmt', 'w+')\\nfnp = open('output_pips_fourplusinterations_human.gmt', 'w+')\\nuSubs = set()\\nnumKSI = 0\\nfor k in d:\\n    temp = '{0}_pips_human'.format(k)\\n    for i in d[k]:\\n        numKSI += 1\\n        uSubs.add(i)\\n        temp += '\\t{0}'.format(i)\\n    allnp.write('{0}\\n'.format(temp))\\n    if len(d[k]) >= 4:\\n        fnp.write('{0}\\n'.format(temp))\\n        \\nprint('{0}\\n#kin: {1}\\t#ksi: {2}\\t#usubs: {3}'.format('human', len(d), numKSI, len(uSubs)))\\n\\n#df.loc[:, ['Name', 'Name.1']]\""
      ]
     },
     "execution_count": 5,
     "metadata": {},
     "output_type": "execute_result"
    }
   ],
   "source": [
    "df = pd.read_csv('input/PredictedInteractions400.txt', delimiter = '\\t')\n",
    "lst1 = list(df.loc[:, 'Name'])\n",
    "lst2 = list(df.loc[:, 'Name.1'])\n",
    "\n",
    "inp = fileinput.FileInput('input/kinases_human.txt')\n",
    "pkin = []\n",
    "for line in inp:\n",
    "    pkin.append(line.split('\\n')[0])\n",
    "\n",
    "d = {}\n",
    "for p1, p2 in zip(lst1, lst2):\n",
    "    if p1 == p1 and p2 == p2: # filter out null values\n",
    "        if p1 in pkin:\n",
    "            if p1 not in d:\n",
    "                d[p1] = {p2}\n",
    "            else:\n",
    "                d[p1].add(p2)\n",
    "        if p2 in pkin:\n",
    "            if p2 not in d:\n",
    "                d[p2] = {p1}\n",
    "            else:\n",
    "                d[p2].add(p1)\n",
    "#[print('{1}: {0}\\n'.format(d[o], o)) for o in d]\n",
    "\n",
    "allnp = open('output_pips_all_human.gmt', 'w+')\n",
    "fnp = open('output_pips_fourplusinteractions_human.gmt', 'w+')\n",
    "uSubs = set()\n",
    "numKSI = 0\n",
    "numKins = 0\n",
    "for k in d:\n",
    "    allnp.write('{0}_pips_human\\t'.format(k) + '\\t'.join(d[k]) + '\\n')\n",
    "    if len(d[k]) >= 4:\n",
    "        numKSI += len(d[k])\n",
    "        numKins += 1\n",
    "        {uSubs.add(x) for x in d[k]}\n",
    "        fnp.write('{0}_pips_human\\t'.format(k) + '\\t'.join(d[k]) + '\\n')\n",
    "    \n",
    "        \n",
    "print('{0}\\t#kins: {1}\\t#ksi: {2}\\t#usubs: {3}'.format('human', numKins, numKSI, len(uSubs)))\n",
    "\n",
    "allnp.close()\n",
    "fnp.close()\n"
   ]
  },
  {
   "cell_type": "code",
   "execution_count": null,
   "metadata": {},
   "outputs": [],
   "source": []
  },
  {
   "cell_type": "code",
   "execution_count": null,
   "metadata": {},
   "outputs": [],
   "source": []
  }
 ],
 "metadata": {
  "kernelspec": {
   "display_name": "Python 3",
   "language": "python",
   "name": "python3"
  },
  "language_info": {
   "codemirror_mode": {
    "name": "ipython",
    "version": 3
   },
   "file_extension": ".py",
   "mimetype": "text/x-python",
   "name": "python",
   "nbconvert_exporter": "python",
   "pygments_lexer": "ipython3",
   "version": "3.7.3"
  }
 },
 "nbformat": 4,
 "nbformat_minor": 2
}
