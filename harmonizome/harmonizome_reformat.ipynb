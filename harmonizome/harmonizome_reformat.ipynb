{
 "cells": [
  {
   "cell_type": "code",
   "execution_count": 1,
   "metadata": {},
   "outputs": [],
   "source": [
    "import pandas as pd\n",
    "import fileinput"
   ]
  },
  {
   "cell_type": "code",
   "execution_count": 2,
   "metadata": {},
   "outputs": [
    {
     "name": "stdout",
     "output_type": "stream",
     "text": [
      "human\t#kins: 130\t#ksi: 3412\t#usubs: 1659\n"
     ]
    }
   ],
   "source": [
    "df = pd.read_csv('input/gene_attribute_edges.txt', delimiter = '\\t') #data from phosphositeplus\n",
    "\n",
    "inp = fileinput.FileInput('input/kinases_human.txt')\n",
    "pkin = []\n",
    "for line in inp:\n",
    "    pkin.append(line.split('\\n')[0])\n",
    "\n",
    "df.loc[:, ['GeneSym', 'GeneSym.1']]\n",
    "\n",
    "d = {}\n",
    "for p1, p2 in zip(df.loc[:, 'GeneSym'], df.loc[:, 'GeneSym.1']):\n",
    "    if p1 in pkin:\n",
    "        if p1 not in d:\n",
    "            d[p1] = {p2}\n",
    "        else:\n",
    "            d[p1].add(p2)\n",
    "    if p2 in pkin:\n",
    "        if p2 not in d:\n",
    "            d[p2] = {p1}\n",
    "        else:\n",
    "            d[p2].add(p1)\n",
    "            \n",
    "allnp = open('output_harmonizome_all_human.gmt', 'w+')\n",
    "fnp = open('output_harmonizome_fourplusinteractions_human.gmt', 'w+')\n",
    "uSubs = set()\n",
    "numKSI = 0\n",
    "numKins = 0\n",
    "for k in d:\n",
    "    allnp.write('{0}_harmonizome_human\\t'.format(k) + '\\t'.join(d[k]) + '\\n')\n",
    "    if len(d[k]) >= 4:\n",
    "        numKSI += len(d[k])\n",
    "        numKins += 1\n",
    "        {uSubs.add(x) for x in d[k]}\n",
    "        fnp.write('{0}_harmonizome_human\\t'.format(k) + '\\t'.join(d[k]) + '\\n')\n",
    "    \n",
    "        \n",
    "print('{0}\\t#kins: {1}\\t#ksi: {2}\\t#usubs: {3}'.format('human', numKins, numKSI, len(uSubs)))\n",
    "\n",
    "allnp.close()\n",
    "fnp.close()\n"
   ]
  },
  {
   "cell_type": "code",
   "execution_count": null,
   "metadata": {},
   "outputs": [],
   "source": []
  },
  {
   "cell_type": "code",
   "execution_count": null,
   "metadata": {},
   "outputs": [],
   "source": []
  },
  {
   "cell_type": "code",
   "execution_count": null,
   "metadata": {},
   "outputs": [],
   "source": []
  }
 ],
 "metadata": {
  "kernelspec": {
   "display_name": "Python 3",
   "language": "python",
   "name": "python3"
  },
  "language_info": {
   "codemirror_mode": {
    "name": "ipython",
    "version": 3
   },
   "file_extension": ".py",
   "mimetype": "text/x-python",
   "name": "python",
   "nbconvert_exporter": "python",
   "pygments_lexer": "ipython3",
   "version": "3.7.3"
  }
 },
 "nbformat": 4,
 "nbformat_minor": 2
}
