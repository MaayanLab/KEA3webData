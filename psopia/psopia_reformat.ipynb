{
 "cells": [
  {
   "cell_type": "code",
   "execution_count": 1,
   "metadata": {},
   "outputs": [],
   "source": [
    "import pandas as pd\n",
    "import fileinput"
   ]
  },
  {
   "cell_type": "code",
   "execution_count": 2,
   "metadata": {},
   "outputs": [
    {
     "data": {
      "text/html": [
       "<div>\n",
       "<style scoped>\n",
       "    .dataframe tbody tr th:only-of-type {\n",
       "        vertical-align: middle;\n",
       "    }\n",
       "\n",
       "    .dataframe tbody tr th {\n",
       "        vertical-align: top;\n",
       "    }\n",
       "\n",
       "    .dataframe thead th {\n",
       "        text-align: right;\n",
       "    }\n",
       "</style>\n",
       "<table border=\"1\" class=\"dataframe\">\n",
       "  <thead>\n",
       "    <tr style=\"text-align: right;\">\n",
       "      <th></th>\n",
       "      <th>#1</th>\n",
       "      <th>2</th>\n",
       "    </tr>\n",
       "  </thead>\n",
       "  <tbody>\n",
       "    <tr>\n",
       "      <th>0</th>\n",
       "      <td>RHG17_HUMAN</td>\n",
       "      <td>MPP5_HUMAN</td>\n",
       "    </tr>\n",
       "    <tr>\n",
       "      <th>1</th>\n",
       "      <td>SMAD3_HUMAN</td>\n",
       "      <td>SNW1_HUMAN</td>\n",
       "    </tr>\n",
       "    <tr>\n",
       "      <th>2</th>\n",
       "      <td>UBD_HUMAN</td>\n",
       "      <td>CBWD1_HUMAN</td>\n",
       "    </tr>\n",
       "    <tr>\n",
       "      <th>3</th>\n",
       "      <td>DC1I1_HUMAN</td>\n",
       "      <td>KCNA5_HUMAN</td>\n",
       "    </tr>\n",
       "    <tr>\n",
       "      <th>4</th>\n",
       "      <td>CRK_HUMAN</td>\n",
       "      <td>K1C16_HUMAN</td>\n",
       "    </tr>\n",
       "  </tbody>\n",
       "</table>\n",
       "</div>"
      ],
      "text/plain": [
       "            #1            2\n",
       "0  RHG17_HUMAN   MPP5_HUMAN\n",
       "1  SMAD3_HUMAN   SNW1_HUMAN\n",
       "2    UBD_HUMAN  CBWD1_HUMAN\n",
       "3  DC1I1_HUMAN  KCNA5_HUMAN\n",
       "4    CRK_HUMAN  K1C16_HUMAN"
      ]
     },
     "execution_count": 2,
     "metadata": {},
     "output_type": "execute_result"
    }
   ],
   "source": [
    "df = pd.read_csv('input/Dset2_pos_4430.txt', delimiter = '\\t') #all interactions are human - human\n",
    "lst1 = list(df.loc[:, '#1'])\n",
    "lst2 = list(df.loc[:, '2'])\n",
    "df.head()"
   ]
  },
  {
   "cell_type": "code",
   "execution_count": 3,
   "metadata": {},
   "outputs": [],
   "source": [
    "inp = fileinput.FileInput('input/kinases_human.txt')\n",
    "pkin = []\n",
    "for line in inp:\n",
    "    pkin.append(line.split('\\n')[0])"
   ]
  },
  {
   "cell_type": "code",
   "execution_count": 4,
   "metadata": {},
   "outputs": [],
   "source": [
    "d = {}\n",
    "for p1, p2 in zip(lst1, lst2):\n",
    "    if p1.split('_')[1] == p2.split('_')[1]:\n",
    "        t1 = p1.split('_')[0]\n",
    "        t2 = p2.split('_')[0]\n",
    "        if t1 in pkin:\n",
    "            if t1 not in d:\n",
    "                d[t1] = {t2}\n",
    "            else:\n",
    "                d[t1].add(t2)\n",
    "        if t2 in pkin:\n",
    "            if t2 not in d:\n",
    "                d[t2] = {t1}\n",
    "            else:\n",
    "                d[t2].add(t1)\n",
    "                \n",
    "#print(d)           "
   ]
  },
  {
   "cell_type": "code",
   "execution_count": 5,
   "metadata": {},
   "outputs": [
    {
     "name": "stdout",
     "output_type": "stream",
     "text": [
      "human\t#kins: 51\t#ksi: 683\t#usubs: 524\n"
     ]
    }
   ],
   "source": [
    "allnp = open('output_psopia_all_human.gmt', 'w+')\n",
    "fnp = open('output_psopia_fourplusinteractions_human.gmt', 'w+')\n",
    "uSubs = set()\n",
    "numKSI = 0\n",
    "numKins = 0\n",
    "for k in d:\n",
    "    allnp.write('{0}_psopia_human\\t'.format(k) + '\\t'.join(d[k]) + '\\n')\n",
    "    if len(d[k]) >= 4:\n",
    "        numKSI += len(d[k])\n",
    "        numKins += 1\n",
    "        {uSubs.add(x) for x in d[k]}\n",
    "        fnp.write('{0}_psopia_human\\t'.format(k) + '\\t'.join(d[k]) + '\\n')\n",
    "    \n",
    "        \n",
    "print('{0}\\t#kins: {1}\\t#ksi: {2}\\t#usubs: {3}'.format('human', numKins, numKSI, len(uSubs)))\n",
    "\n",
    "allnp.close()\n",
    "fnp.close()\n",
    "\n"
   ]
  },
  {
   "cell_type": "code",
   "execution_count": null,
   "metadata": {},
   "outputs": [],
   "source": []
  }
 ],
 "metadata": {
  "kernelspec": {
   "display_name": "Python 3",
   "language": "python",
   "name": "python3"
  },
  "language_info": {
   "codemirror_mode": {
    "name": "ipython",
    "version": 3
   },
   "file_extension": ".py",
   "mimetype": "text/x-python",
   "name": "python",
   "nbconvert_exporter": "python",
   "pygments_lexer": "ipython3",
   "version": "3.7.3"
  }
 },
 "nbformat": 4,
 "nbformat_minor": 2
}
