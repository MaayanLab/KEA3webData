{
 "cells": [
  {
   "cell_type": "code",
   "execution_count": 3,
   "metadata": {},
   "outputs": [],
   "source": [
    "import pandas as pd"
   ]
  },
  {
   "cell_type": "code",
   "execution_count": 51,
   "metadata": {
    "scrolled": true
   },
   "outputs": [],
   "source": [
    "def reformat(filename):\n",
    "    df = pd.read_csv('input/{0}.csv'.format(filename), delimiter = '\\t')\n",
    "    kins = []\n",
    "    subs = []\n",
    "    if filename == 'rawKSI':\n",
    "        kins = list(df.loc[:, 'kinase'])\n",
    "        subs = list(df.loc[:, 'substrate'])\n",
    "    else:\n",
    "        kins = list(df.loc[:,'Kinase'])\n",
    "        subs = list(df.loc[:, 'Substrate'])\n",
    "    #print(len(kins))\n",
    "\n",
    "    d = {}\n",
    "    numInters = 0 # num interactions\n",
    "    uSubs = set() # set of unique substrates\n",
    "    for k,s in zip(kins, subs):\n",
    "        numInters += 1\n",
    "        #uSubs.add(s)\n",
    "        if k not in d:\n",
    "            #numKins += 1\n",
    "            d[k] = {s}\n",
    "        else:\n",
    "            d[k].add(s)\n",
    "\n",
    "    numKSI = 0 # num ksi\n",
    "    numKins = 0 # num unique kinases\n",
    "    fileOutput = open('output_phosphonetworks-{0}_all_human.gmt'.format(filename), 'w+')\n",
    "    fO1 = open('output_phosphonetworks-{0}_fourplusinteractions_human.gmt'.format(filename), 'w+')\n",
    "    for k in d:\n",
    "        fileOutput.write('{0}_phosphonetworks_human\\t'.format(k) + '\\t'.join(d[k]) + '\\n')\n",
    "        if len(d[k]) >= 4:\n",
    "            numKSI += len(d[k])\n",
    "            numKins += 1\n",
    "            {uSubs.add(x) for x in d[k]}\n",
    "            fO1.write('{0}_phosphonetworks_human\\t'.format(k) + '\\t'.join(d[k]) + '\\n')\n",
    "       \n",
    "    print('{3}\\t# kins: {0}\\tnum ksis: {1}\\tnum unique subs: {2}'.format(numKins, numKSI, len(uSubs), filename))\n",
    "    #print(numInters)\n",
    "    \n",
    "    fileOutput.close()\n",
    "    fO1.close()\n",
    "    \n",
    "    ''' uSubs = list(uSubs)\n",
    "    uSubs.sort()\n",
    "    print(uSubs)'''"
   ]
  },
  {
   "cell_type": "code",
   "execution_count": 52,
   "metadata": {},
   "outputs": [
    {
     "name": "stdout",
     "output_type": "stream",
     "text": [
      "comKSI\t# kins: 198\tnum ksis: 4263\tnum unique subs: 1135\n",
      "rawKSI\t# kins: 289\tnum ksis: 24047\tnum unique subs: 1967\n"
     ]
    }
   ],
   "source": [
    "reformat('comKSI')\n",
    "reformat('rawKSI')"
   ]
  },
  {
   "cell_type": "code",
   "execution_count": null,
   "metadata": {},
   "outputs": [],
   "source": []
  }
 ],
 "metadata": {
  "kernelspec": {
   "display_name": "Python 3",
   "language": "python",
   "name": "python3"
  },
  "language_info": {
   "codemirror_mode": {
    "name": "ipython",
    "version": 3
   },
   "file_extension": ".py",
   "mimetype": "text/x-python",
   "name": "python",
   "nbconvert_exporter": "python",
   "pygments_lexer": "ipython3",
   "version": "3.7.3"
  }
 },
 "nbformat": 4,
 "nbformat_minor": 2
}
