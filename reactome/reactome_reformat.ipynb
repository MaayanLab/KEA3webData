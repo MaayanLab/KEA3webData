{
 "cells": [
  {
   "cell_type": "code",
   "execution_count": 1,
   "metadata": {},
   "outputs": [],
   "source": [
    "import pandas as pd\n",
    "import fileinput"
   ]
  },
  {
   "cell_type": "code",
   "execution_count": 2,
   "metadata": {},
   "outputs": [],
   "source": [
    "inp = fileinput.FileInput('input/kinases_human.txt')\n",
    "pkin = []\n",
    "for line in inp:\n",
    "    pkin.append(line.split('\\n')[0])"
   ]
  },
  {
   "cell_type": "code",
   "execution_count": 3,
   "metadata": {},
   "outputs": [],
   "source": [
    "df = pd.read_csv('input/reactome.homo_sapiens.interactions.tab-delimited.txt', delimiter = '\\t')\n",
    "#df = pd.read_csv('input/testinp.txt', delimiter = '\\t')\n",
    "prot1 = [i.split(':')[1] for i in list(df.iloc[:, 0])]\n",
    "prot2 = [i.split(':')[1] for i in list(df.iloc[:, 3])]"
   ]
  },
  {
   "cell_type": "code",
   "execution_count": 4,
   "metadata": {},
   "outputs": [
    {
     "name": "stdout",
     "output_type": "stream",
     "text": [
      "['P37840', 'P0DJI8', 'P06727', 'P01160', 'P51572', 'O95999', 'P05067', 'P05067', 'P05067'] ['P37840', 'P0DJI8', 'P06727', 'P01160', 'P51572', 'O95999', 'P05067', 'P05067', 'P05067']\n"
     ]
    }
   ],
   "source": [
    "print(prot1[1:10], prot2[1:10])"
   ]
  },
  {
   "cell_type": "code",
   "execution_count": 5,
   "metadata": {},
   "outputs": [
    {
     "data": {
      "text/html": [
       "<div>\n",
       "<style scoped>\n",
       "    .dataframe tbody tr th:only-of-type {\n",
       "        vertical-align: middle;\n",
       "    }\n",
       "\n",
       "    .dataframe tbody tr th {\n",
       "        vertical-align: top;\n",
       "    }\n",
       "\n",
       "    .dataframe thead th {\n",
       "        text-align: right;\n",
       "    }\n",
       "</style>\n",
       "<table border=\"1\" class=\"dataframe\">\n",
       "  <thead>\n",
       "    <tr style=\"text-align: right;\">\n",
       "      <th></th>\n",
       "      <th>Approved symbol</th>\n",
       "      <th>UniProt ID(supplied by UniProt)</th>\n",
       "    </tr>\n",
       "  </thead>\n",
       "  <tbody>\n",
       "    <tr>\n",
       "      <th>0</th>\n",
       "      <td>A1BG</td>\n",
       "      <td>P04217</td>\n",
       "    </tr>\n",
       "    <tr>\n",
       "      <th>2</th>\n",
       "      <td>A1CF</td>\n",
       "      <td>Q9NQ94</td>\n",
       "    </tr>\n",
       "    <tr>\n",
       "      <th>3</th>\n",
       "      <td>A2M</td>\n",
       "      <td>P01023</td>\n",
       "    </tr>\n",
       "    <tr>\n",
       "      <th>5</th>\n",
       "      <td>A2ML1</td>\n",
       "      <td>A8K2U0</td>\n",
       "    </tr>\n",
       "    <tr>\n",
       "      <th>9</th>\n",
       "      <td>A3GALT2</td>\n",
       "      <td>U3KPV4</td>\n",
       "    </tr>\n",
       "  </tbody>\n",
       "</table>\n",
       "</div>"
      ],
      "text/plain": [
       "  Approved symbol UniProt ID(supplied by UniProt)\n",
       "0            A1BG                          P04217\n",
       "2            A1CF                          Q9NQ94\n",
       "3             A2M                          P01023\n",
       "5           A2ML1                          A8K2U0\n",
       "9         A3GALT2                          U3KPV4"
      ]
     },
     "execution_count": 5,
     "metadata": {},
     "output_type": "execute_result"
    }
   ],
   "source": [
    "### CONVERT FROM UNIPROT ID TO GENE ID\n",
    "\n",
    "# UNIPROT ID TO GENE ID\n",
    "df1 = pd.read_csv('input/uniprot_to_gene_hgnc.txt', sep = '\\t')\n",
    "df1 = df1.dropna()\n",
    "df1.head()"
   ]
  },
  {
   "cell_type": "code",
   "execution_count": 6,
   "metadata": {},
   "outputs": [],
   "source": [
    "# MAPS UNIPROT ID TO GENE ID\n",
    "toGeneID = {} # maps uniprotID to approved symbol(s)\n",
    "for x, y in zip(list(df1.loc[:, 'Approved symbol']), list(df1.loc[:, 'UniProt ID(supplied by UniProt)'])):\n",
    "    if y not in toGeneID:\n",
    "        toGeneID[y] = {x}\n",
    "    else:\n",
    "        toGeneID[y].add(x)"
   ]
  },
  {
   "cell_type": "code",
   "execution_count": 7,
   "metadata": {},
   "outputs": [],
   "source": [
    "# find KSIs\n",
    "d = {}\n",
    "for p1, p2 in zip(prot1, prot2):\n",
    "    if p1 in toGeneID and p2 in toGeneID:\n",
    "        p1 = toGeneID[p1]\n",
    "        p2 = toGeneID[p2]\n",
    "        for p1x in p1:\n",
    "            if p1x in pkin:\n",
    "                if p1x not in d:\n",
    "                    d[p1x] = {p2x for p2x in p2}\n",
    "                else:\n",
    "                    {d[p1x].add(p2x) for p2x in p2}\n",
    "        for p2x in p2:\n",
    "            if p2x in pkin:\n",
    "                if p2x not in d:\n",
    "                    d[p2x] = {p1x for p1x in p1}\n",
    "                else:\n",
    "                    {d[p2x].add(p1x) for p1x in p1}"
   ]
  },
  {
   "cell_type": "code",
   "execution_count": 8,
   "metadata": {},
   "outputs": [
    {
     "name": "stdout",
     "output_type": "stream",
     "text": [
      "human\t#kins: 108\t#ksi: 2659\t#usubs: 1042\n"
     ]
    }
   ],
   "source": [
    "allnp = open('output_reactome_all_human.gmt', 'w+')\n",
    "fnp = open('output_reactome_fourplusinteractions_human.gmt', 'w+')\n",
    "uSubs = set()\n",
    "numKSI = 0\n",
    "numKins = 0\n",
    "for k in d:\n",
    "    allnp.write('{0}_reactome_human\\t'.format(k) + '\\t'.join(d[k]) + '\\n')\n",
    "    if len(d[k]) >= 4:\n",
    "        numKSI += len(d[k])\n",
    "        numKins += 1\n",
    "        {uSubs.add(x) for x in d[k]}\n",
    "        fnp.write('{0}_reactome_human\\t'.format(k) + '\\t'.join(d[k]) + '\\n')\n",
    "    \n",
    "        \n",
    "print('{0}\\t#kins: {1}\\t#ksi: {2}\\t#usubs: {3}'.format('human', numKins, numKSI, len(uSubs)))\n",
    "\n",
    "allnp.close()\n",
    "fnp.close()\n",
    "\n"
   ]
  },
  {
   "cell_type": "code",
   "execution_count": null,
   "metadata": {},
   "outputs": [],
   "source": []
  },
  {
   "cell_type": "code",
   "execution_count": null,
   "metadata": {},
   "outputs": [],
   "source": []
  }
 ],
 "metadata": {
  "kernelspec": {
   "display_name": "Python 3",
   "language": "python",
   "name": "python3"
  },
  "language_info": {
   "codemirror_mode": {
    "name": "ipython",
    "version": 3
   },
   "file_extension": ".py",
   "mimetype": "text/x-python",
   "name": "python",
   "nbconvert_exporter": "python",
   "pygments_lexer": "ipython3",
   "version": "3.7.3"
  }
 },
 "nbformat": 4,
 "nbformat_minor": 2
}
