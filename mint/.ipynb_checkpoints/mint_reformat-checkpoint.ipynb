{
 "cells": [
  {
   "cell_type": "code",
   "execution_count": 1,
   "metadata": {},
   "outputs": [],
   "source": [
    "import pandas as pd\n",
    "import re\n",
    "import fileinput"
   ]
  },
  {
   "cell_type": "code",
   "execution_count": 2,
   "metadata": {},
   "outputs": [
    {
     "data": {
      "text/html": [
       "<div>\n",
       "<style scoped>\n",
       "    .dataframe tbody tr th:only-of-type {\n",
       "        vertical-align: middle;\n",
       "    }\n",
       "\n",
       "    .dataframe tbody tr th {\n",
       "        vertical-align: top;\n",
       "    }\n",
       "\n",
       "    .dataframe thead th {\n",
       "        text-align: right;\n",
       "    }\n",
       "</style>\n",
       "<table border=\"1\" class=\"dataframe\">\n",
       "  <thead>\n",
       "    <tr style=\"text-align: right;\">\n",
       "      <th></th>\n",
       "      <th>a</th>\n",
       "      <th>b</th>\n",
       "    </tr>\n",
       "  </thead>\n",
       "  <tbody>\n",
       "    <tr>\n",
       "      <th>4871</th>\n",
       "      <td>uniprotkb:Q96RS6-3</td>\n",
       "      <td>uniprotkb:Q96S15-2</td>\n",
       "    </tr>\n",
       "    <tr>\n",
       "      <th>4872</th>\n",
       "      <td>uniprotkb:Q96RS6-3</td>\n",
       "      <td>uniprotkb:O95163</td>\n",
       "    </tr>\n",
       "    <tr>\n",
       "      <th>4873</th>\n",
       "      <td>uniprotkb:Q96RS6-3</td>\n",
       "      <td>uniprotkb:Q13535-2</td>\n",
       "    </tr>\n",
       "    <tr>\n",
       "      <th>4874</th>\n",
       "      <td>uniprotkb:Q96RS6-3</td>\n",
       "      <td>uniprotkb:P83111</td>\n",
       "    </tr>\n",
       "    <tr>\n",
       "      <th>4875</th>\n",
       "      <td>uniprotkb:Q96RS6-3</td>\n",
       "      <td>uniprotkb:K4DI86</td>\n",
       "    </tr>\n",
       "  </tbody>\n",
       "</table>\n",
       "</div>"
      ],
      "text/plain": [
       "                       a                   b\n",
       "4871  uniprotkb:Q96RS6-3  uniprotkb:Q96S15-2\n",
       "4872  uniprotkb:Q96RS6-3    uniprotkb:O95163\n",
       "4873  uniprotkb:Q96RS6-3  uniprotkb:Q13535-2\n",
       "4874  uniprotkb:Q96RS6-3    uniprotkb:P83111\n",
       "4875  uniprotkb:Q96RS6-3    uniprotkb:K4DI86"
      ]
     },
     "execution_count": 2,
     "metadata": {},
     "output_type": "execute_result"
    }
   ],
   "source": [
    "alph = 'abcdefghijklmno'\n",
    "df = pd.read_csv('input/species_human.txt', delimiter = '\\t', names = [str(alph[i:i+1]) for i in range(0,15)])\n",
    "df = df[(df.j == 'taxid:9606(human)|taxid:9606(Homo sapiens)') & (df.k == 'taxid:9606(human)|taxid:9606(Homo sapiens)')]\n",
    "df = df.loc[:, ['a', 'b']]\n",
    "df.head()\n"
   ]
  },
  {
   "cell_type": "code",
   "execution_count": 3,
   "metadata": {},
   "outputs": [
    {
     "data": {
      "text/html": [
       "<div>\n",
       "<style scoped>\n",
       "    .dataframe tbody tr th:only-of-type {\n",
       "        vertical-align: middle;\n",
       "    }\n",
       "\n",
       "    .dataframe tbody tr th {\n",
       "        vertical-align: top;\n",
       "    }\n",
       "\n",
       "    .dataframe thead th {\n",
       "        text-align: right;\n",
       "    }\n",
       "</style>\n",
       "<table border=\"1\" class=\"dataframe\">\n",
       "  <thead>\n",
       "    <tr style=\"text-align: right;\">\n",
       "      <th></th>\n",
       "      <th>Approved symbol</th>\n",
       "      <th>UniProt ID(supplied by UniProt)</th>\n",
       "    </tr>\n",
       "  </thead>\n",
       "  <tbody>\n",
       "    <tr>\n",
       "      <th>0</th>\n",
       "      <td>A1BG</td>\n",
       "      <td>P04217</td>\n",
       "    </tr>\n",
       "    <tr>\n",
       "      <th>2</th>\n",
       "      <td>A1CF</td>\n",
       "      <td>Q9NQ94</td>\n",
       "    </tr>\n",
       "    <tr>\n",
       "      <th>3</th>\n",
       "      <td>A2M</td>\n",
       "      <td>P01023</td>\n",
       "    </tr>\n",
       "    <tr>\n",
       "      <th>5</th>\n",
       "      <td>A2ML1</td>\n",
       "      <td>A8K2U0</td>\n",
       "    </tr>\n",
       "    <tr>\n",
       "      <th>9</th>\n",
       "      <td>A3GALT2</td>\n",
       "      <td>U3KPV4</td>\n",
       "    </tr>\n",
       "  </tbody>\n",
       "</table>\n",
       "</div>"
      ],
      "text/plain": [
       "  Approved symbol UniProt ID(supplied by UniProt)\n",
       "0            A1BG                          P04217\n",
       "2            A1CF                          Q9NQ94\n",
       "3             A2M                          P01023\n",
       "5           A2ML1                          A8K2U0\n",
       "9         A3GALT2                          U3KPV4"
      ]
     },
     "execution_count": 3,
     "metadata": {},
     "output_type": "execute_result"
    }
   ],
   "source": [
    "# file with gene symbol and uniprotid\n",
    "df1 = pd.read_csv('input/genesymboltouniprot_hgnc.txt', sep = '\\t')\n",
    "df1 = df1.dropna()\n",
    "df1.head()"
   ]
  },
  {
   "cell_type": "code",
   "execution_count": 4,
   "metadata": {},
   "outputs": [],
   "source": [
    "# map uniprot id to list of approved symbols\n",
    "di = {} # {uniprot id, [approved symbol(s)]}\n",
    "for p1, p2 in zip(list(df1.loc[:, 'Approved symbol']), list(df1.loc[:, 'UniProt ID(supplied by UniProt)'])):\n",
    "    if p2 in di:\n",
    "        di[p2].append(p1)\n",
    "    else:\n",
    "        di[p2] = [p1]\n",
    "        \n",
    "#[print('{0}\\t{1}'.format(p, di[p])) for p in di if len(di[p]) > 1]\n"
   ]
  },
  {
   "cell_type": "code",
   "execution_count": 5,
   "metadata": {},
   "outputs": [],
   "source": [
    "# read in list of human kinases\n",
    "inp = fileinput.FileInput('input/kinases_human.txt')\n",
    "pkin = []\n",
    "for line in inp:\n",
    "    pkin.append(line.split('\\n')[0])\n"
   ]
  },
  {
   "cell_type": "code",
   "execution_count": 6,
   "metadata": {},
   "outputs": [],
   "source": [
    "# find ksis\n",
    "d = {}\n",
    "for p1, p2 in zip(list(df.loc[:, 'a']), list(df.loc[:, 'b'])):\n",
    "    p1 = p1.split(':')[1]\n",
    "    p2 = p2.split(':')[1]\n",
    "    if p1 in di and p2 in di:\n",
    "        p1 = di[p1]\n",
    "        p2 = di[p2]\n",
    "        for x in p1:\n",
    "            if x in pkin:\n",
    "                if x not in d:\n",
    "                    d[x] = {i for i in p2}\n",
    "                else:\n",
    "                    {d[x].add(i) for i in p2}\n",
    "        for y in p2:\n",
    "            if y in pkin:\n",
    "                if y not in d:\n",
    "                    d[y] = {i for i in p1}\n",
    "                else:\n",
    "                    {d[y].add(i) for i in p1}\n",
    "                \n",
    "#print(d)"
   ]
  },
  {
   "cell_type": "code",
   "execution_count": 8,
   "metadata": {},
   "outputs": [
    {
     "name": "stdout",
     "output_type": "stream",
     "text": [
      "human\t#kins: 101\t#ksi: 1775\t#usubs: 998\n"
     ]
    }
   ],
   "source": [
    "# write to file, calculate relevant things\n",
    "allnp = open('output_mint_all_human.gmt', 'w+')\n",
    "fnp = open('output_mint_fourplusinteractions_human.gmt', 'w+')\n",
    "uSubs = set()\n",
    "numKSI = 0\n",
    "numKins = 0\n",
    "for k in d:\n",
    "    allnp.write('{0}_mint_human\\t'.format(k) + '\\t'.join(d[k]) + '\\n')\n",
    "    if len(d[k]) >= 4:\n",
    "        numKSI += len(d[k])\n",
    "        numKins += 1\n",
    "        {uSubs.add(x) for x in d[k]}\n",
    "        fnp.write('{0}_mint_human\\t'.format(k) + '\\t'.join(d[k]) + '\\n')\n",
    "    \n",
    "        \n",
    "print('{0}\\t#kins: {1}\\t#ksi: {2}\\t#usubs: {3}'.format('human', numKins, numKSI, len(uSubs)))\n",
    "\n",
    "allnp.close()\n",
    "fnp.close()\n",
    "\n"
   ]
  },
  {
   "cell_type": "code",
   "execution_count": null,
   "metadata": {},
   "outputs": [],
   "source": []
  },
  {
   "cell_type": "code",
   "execution_count": null,
   "metadata": {},
   "outputs": [],
   "source": []
  }
 ],
 "metadata": {
  "kernelspec": {
   "display_name": "Python 3",
   "language": "python",
   "name": "python3"
  },
  "language_info": {
   "codemirror_mode": {
    "name": "ipython",
    "version": 3
   },
   "file_extension": ".py",
   "mimetype": "text/x-python",
   "name": "python",
   "nbconvert_exporter": "python",
   "pygments_lexer": "ipython3",
   "version": "3.7.3"
  }
 },
 "nbformat": 4,
 "nbformat_minor": 2
}
