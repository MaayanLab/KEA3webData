{
 "cells": [
  {
   "cell_type": "markdown",
   "metadata": {},
   "source": [
    "Generate an interaction matrix for all human, fourplusinteraction gmt files"
   ]
  },
  {
   "cell_type": "code",
   "execution_count": 43,
   "metadata": {},
   "outputs": [],
   "source": [
    "import os\n",
    "import fileinput\n",
    "import csv"
   ]
  },
  {
   "cell_type": "code",
   "execution_count": 44,
   "metadata": {},
   "outputs": [],
   "source": [
    "# Find all human, four plus interaction gmt files\n",
    "filenames = [] # List of all gmt files\n",
    "for root, dirs, files in os.walk(os.getcwd()):\n",
    "    for file in files:\n",
    "        if file.endswith(\"fourplusinteractions_human.gmt\") and \"with\" not in file:\n",
    "             filenames.append(os.path.join(root, file))"
   ]
  },
  {
   "cell_type": "code",
   "execution_count": 45,
   "metadata": {},
   "outputs": [],
   "source": [
    "# Store KSI for each library\n",
    "d = dict((o, {}) for o in filenames)\n",
    "\n",
    "for doc in filenames:\n",
    "    fileInput = fileinput.FileInput('{0}'.format(doc))\n",
    "    d[doc] = set()\n",
    "    for line in fileInput:\n",
    "        kin = line.split('\\t')[0].split('_')[0]\n",
    "        subs = line.split('\\t')[1:]\n",
    "        #{usubs.add(i) for i in subs}\n",
    "        subs[len(subs) - 1] = subs[len(subs) - 1].strip()\n",
    "        {d[doc].add('{0}\\t{1}'.format(kin, s)) for s in subs}\n",
    "\n",
    "\n"
   ]
  },
  {
   "cell_type": "code",
   "execution_count": 46,
   "metadata": {},
   "outputs": [],
   "source": [
    "# Generate interaction matrix\n",
    "\n",
    "count = 0\n",
    "interactions = [[0 for i in range(len(filenames))] for j in range(len(filenames))]\n",
    "for doc1 in filenames:\n",
    "    count1 = count\n",
    "    inters = 0\n",
    "    for docx in filenames[count:]: # other documents\n",
    "        #temp = {i for i in d[doc1] for j in d[docx] if i == j}\n",
    "        temp = {i for i in d[doc1] if i in d[docx]}\n",
    "        interactions[count][count1] = len(temp)\n",
    "        count1 += 1            \n",
    "    count += 1\n"
   ]
  },
  {
   "cell_type": "code",
   "execution_count": 47,
   "metadata": {},
   "outputs": [],
   "source": [
    "# Write to csv\n",
    "with open('interaction_matrix.csv', mode='w') as matrix:\n",
    "    matrix = csv.writer(matrix, delimiter=',', quotechar='\"', quoting=csv.QUOTE_MINIMAL)\n",
    "    fns = [x.split('/')[len(x.split('/')) - 1].split('_')[1] for x in filenames]\n",
    "    matrix.writerow(fns)\n",
    "    for row in interactions:\n",
    "        matrix.writerow(row)"
   ]
  },
  {
   "cell_type": "code",
   "execution_count": null,
   "metadata": {},
   "outputs": [],
   "source": []
  }
 ],
 "metadata": {
  "kernelspec": {
   "display_name": "Python 3",
   "language": "python",
   "name": "python3"
  },
  "language_info": {
   "codemirror_mode": {
    "name": "ipython",
    "version": 3
   },
   "file_extension": ".py",
   "mimetype": "text/x-python",
   "name": "python",
   "nbconvert_exporter": "python",
   "pygments_lexer": "ipython3",
   "version": "3.7.3"
  }
 },
 "nbformat": 4,
 "nbformat_minor": 2
}
