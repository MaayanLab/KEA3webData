{
 "cells": [
  {
   "cell_type": "code",
   "execution_count": 1,
   "metadata": {},
   "outputs": [],
   "source": [
    "import pandas as pd\n",
    "import fileinput"
   ]
  },
  {
   "cell_type": "code",
   "execution_count": 2,
   "metadata": {},
   "outputs": [],
   "source": [
    "df = pd.read_csv('input/HIPPIE-current.mitab.txt', delimiter = '\\t')\n",
    "#df = df[df.Confidence_Value >= .5] # p sure these are all experimentally-determined PPIs\n",
    "org1 = list(df.loc[:, 'Taxid Interactor B'])\n",
    "org2 = list(df.loc[:, 'Taxid Interactor B'])\n",
    "out1 = list(df.loc[:, 'Gene Name Interactor A'])\n",
    "out2 = list(df.loc[:, 'Gene Name Interactor B'])\n",
    "\n",
    "#df.loc[:, ['Taxid Interactor A', 'Taxid Interactor B', 'Gene Name Interactor A', 'Gene Name Interactor B']]\n"
   ]
  },
  {
   "cell_type": "code",
   "execution_count": 3,
   "metadata": {},
   "outputs": [],
   "source": [
    "inp = fileinput.FileInput('input/kinases_human.txt')\n",
    "pkin = []\n",
    "for line in inp:\n",
    "    pkin.append(line.split('\\n')[0])"
   ]
  },
  {
   "cell_type": "code",
   "execution_count": 4,
   "metadata": {},
   "outputs": [],
   "source": [
    "d = {}\n",
    "for o1, o2, p1, p2 in zip(org1, org2, out1, out2):\n",
    "    if p1 == p1 and p2 == p2:\n",
    "        if o1 == o2 and '9606' in o1:\n",
    "            if p1 in pkin:\n",
    "                if p1 not in d:\n",
    "                    d[p1] = {p2}\n",
    "                else:\n",
    "                    d[p1].add(p2)\n",
    "            if p2 in pkin:\n",
    "                if p2 not in d:\n",
    "                    d[p2] = {p1}\n",
    "                else:\n",
    "                    d[p2].add(p1)"
   ]
  },
  {
   "cell_type": "code",
   "execution_count": 5,
   "metadata": {},
   "outputs": [
    {
     "name": "stdout",
     "output_type": "stream",
     "text": [
      "human\t#kins: 316\t#ksi: 31994\t#usubs: 8324\n"
     ]
    }
   ],
   "source": [
    "allnp = open('output_hippie_all_human.gmt', 'w+')\n",
    "fnp = open('output_hippie_fourplusinteractions_human.gmt', 'w+')\n",
    "uSubs = set()\n",
    "numKSI = 0\n",
    "numKins = 0\n",
    "for k in d:\n",
    "    allnp.write('{0}_hippie_human\\t'.format(k) + '\\t'.join(d[k]) + '\\n')\n",
    "    if len(d[k]) >= 4:\n",
    "        numKSI += len(d[k])\n",
    "        numKins += 1\n",
    "        {uSubs.add(x) for x in d[k]}\n",
    "        fnp.write('{0}_hippie_human\\t'.format(k) + '\\t'.join(d[k]) + '\\n')\n",
    "    \n",
    "        \n",
    "print('{0}\\t#kins: {1}\\t#ksi: {2}\\t#usubs: {3}'.format('human', numKins, numKSI, len(uSubs)))\n",
    "\n",
    "allnp.close()\n",
    "fnp.close()\n",
    "\n"
   ]
  },
  {
   "cell_type": "code",
   "execution_count": null,
   "metadata": {},
   "outputs": [],
   "source": []
  }
 ],
 "metadata": {
  "kernelspec": {
   "display_name": "Python 3",
   "language": "python",
   "name": "python3"
  },
  "language_info": {
   "codemirror_mode": {
    "name": "ipython",
    "version": 3
   },
   "file_extension": ".py",
   "mimetype": "text/x-python",
   "name": "python",
   "nbconvert_exporter": "python",
   "pygments_lexer": "ipython3",
   "version": "3.7.3"
  }
 },
 "nbformat": 4,
 "nbformat_minor": 2
}
