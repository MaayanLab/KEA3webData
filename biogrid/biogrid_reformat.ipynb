{
 "cells": [
  {
   "cell_type": "code",
   "execution_count": 1,
   "metadata": {},
   "outputs": [],
   "source": [
    "import pandas as pd\n",
    "import re"
   ]
  },
  {
   "cell_type": "code",
   "execution_count": 8,
   "metadata": {},
   "outputs": [],
   "source": [
    "def biogrid_reformat1(o, filename, orgInteractor):\n",
    "    # get list of kinases for o\n",
    "    pkin = open('input/kinases_{0}.txt'.format(o), 'r')\n",
    "    pkinases = [] # all kinases for o listed in pkinfam.txt (uniprot)\n",
    "    for line in pkin:\n",
    "        pkinases.append(line.split('\\n')[0])\n",
    "    #print(pkinases)\n",
    "    \n",
    "    # biogrid data for o\n",
    "    df = pd.read_csv(filename, delimiter = '\\t', low_memory = False)\n",
    "    lst1 = df.loc[:,'Official Symbol Interactor A']\n",
    "    lst2 = df.loc[:,'Official Symbol Interactor B']\n",
    "    org1 = df.loc[:, 'Organism Interactor A']\n",
    "    org2 = df.loc[:, 'Organism Interactor B']\n",
    "    d = dict((i, set()) for i in pkinases) # dictionary (kinase : set of substrates)\n",
    "    substrates = set() # unique substrates\n",
    "    totalNumInteractions = 0 # total number of kinase - substrate interactions\n",
    "    \n",
    "    # find kinase interactions\n",
    "    for p1, p2, o1, o2 in zip(lst1, lst2, org1, org2):        \n",
    "        if o1 == orgInteractor and o2 == orgInteractor: # ensures human - human, mouse - mouse interactions\n",
    "            #print('{0}, {1}'.format(p1, p2))\n",
    "            if p1 in pkinases:\n",
    "                temp = d[p1].copy()\n",
    "                temp.add(p2)\n",
    "                d[p1] = temp\n",
    "                #substrates.add(p2)\n",
    "                #totalNumInteractions += 1\n",
    "            if p2 in pkinases:\n",
    "                temp = d[p2].copy()\n",
    "                temp.add(p1)\n",
    "                d[p2] = temp\n",
    "                #substrates.add(p1)\n",
    "                #totalNumInteractions += 1\n",
    "\n",
    "    # write to file\n",
    "    fileOutput = open('output_biogrid_all_{0}.gmt'.format(o), 'w+') # includes all kinases - substrate interactions\n",
    "    fileOutput1 = open('output_biogrid_fourplusinteractions_{0}.gmt'.format(o), 'w+') # only includes kinases w/ >=4 substrate interactions\n",
    "    numKinases = 0 # number of (unique) kinases\n",
    "    for k in d:\n",
    "        if len(d[k]) > 4:\n",
    "            numKinases += 1\n",
    "            temp = '{0}_biogrid_{1}\t'.format(k, o)\n",
    "            temp1 = '{0}_biogrid_{1}\t'.format(k, o)\n",
    "            for s in d[k]:\n",
    "                temp = '{0}\t{1}'.format(temp, s)\n",
    "                temp1 = '{0}\t{1}'.format(temp1, s)\n",
    "                substrates.add(s)\n",
    "                totalNumInteractions += 1\n",
    "            fileOutput.write('{0}\\n'.format(temp))\n",
    "            fileOutput1.write('{0}\\n'.format(temp1))\n",
    "        elif len(d[k]) > 0:\n",
    "            temp = '{0}_biogrid_{1}\t'.format(k, o)\n",
    "            for s in d[k]:\n",
    "                temp = '{0}\t{1}'.format(temp, s)\n",
    "            fileOutput.write('{0}\\n'.format(temp))\n",
    "    \n",
    "    \n",
    "    print('{0}'.format(o))\n",
    "    print('# unique kinases: {0}'.format(numKinases)) # number of kinases\n",
    "    print('# ksi (total): {0}'.format(totalNumInteractions)) # total number of ksi\n",
    "    print('# unique substrates: {0}'.format(len(substrates))) # number of unique substrates\n",
    "    #print('avg # ksi (per k): {0}\\n'.format(int(float(len(substrates)) / float(numKinases)))) # avg number of kinase - substrate interactions per kinase\n",
    "    print('avg # ksi (per k): {0}\\n'.format(int(float(totalNumInteractions) / float(numKinases)))) # avg number of kinase - substrate interactions per kinase\n"
   ]
  },
  {
   "cell_type": "code",
   "execution_count": 9,
   "metadata": {},
   "outputs": [
    {
     "name": "stdout",
     "output_type": "stream",
     "text": [
      "human\n",
      "# unique kinases: 296\n",
      "# ksi (total): 23220\n",
      "# unique substrates: 7391\n",
      "avg # ksi (per k): 78\n",
      "\n",
      "mouse\n",
      "# unique kinases: 64\n",
      "# ksi (total): 1180\n",
      "# unique substrates: 760\n",
      "avg # ksi (per k): 18\n",
      "\n"
     ]
    }
   ],
   "source": [
    "# testing:\n",
    "biogrid_reformat1('human', 'input/BIOGRID-ORGANISM-3.5.173.tab2/BIOGRID-ORGANISM-Homo_sapiens-3.5.173.tab2.txt', 9606)\n",
    "biogrid_reformat1('mouse', 'input/BIOGRID-ORGANISM-3.5.173.tab2/BIOGRID-ORGANISM-Mus_musculus-3.5.173.tab2.txt', 10090)"
   ]
  },
  {
   "cell_type": "code",
   "execution_count": null,
   "metadata": {},
   "outputs": [],
   "source": []
  }
 ],
 "metadata": {
  "kernelspec": {
   "display_name": "Python 3",
   "language": "python",
   "name": "python3"
  },
  "language_info": {
   "codemirror_mode": {
    "name": "ipython",
    "version": 3
   },
   "file_extension": ".py",
   "mimetype": "text/x-python",
   "name": "python",
   "nbconvert_exporter": "python",
   "pygments_lexer": "ipython3",
   "version": "3.7.3"
  }
 },
 "nbformat": 4,
 "nbformat_minor": 2
}
