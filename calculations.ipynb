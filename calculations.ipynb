{
 "cells": [
  {
   "cell_type": "markdown",
   "metadata": {},
   "source": [
    "Calculate the number of kinases, kinase - substrate interactions, and unique kinases for all gmt files"
   ]
  },
  {
   "cell_type": "code",
   "execution_count": 51,
   "metadata": {},
   "outputs": [],
   "source": [
    "import os\n",
    "import fileinput\n",
    "import csv"
   ]
  },
  {
   "cell_type": "code",
   "execution_count": 52,
   "metadata": {},
   "outputs": [],
   "source": [
    "# Find all .gmt files\n",
    "filenames = [] # List of all gmt files\n",
    "for root, dirs, files in os.walk(os.getcwd()):\n",
    "    for file in files:\n",
    "        if file.endswith(\".gmt\"):\n",
    "             filenames.append(os.path.join(root, file))"
   ]
  },
  {
   "cell_type": "code",
   "execution_count": 53,
   "metadata": {},
   "outputs": [],
   "source": [
    "with open('calculations.csv', mode='w') as calculations:\n",
    "    calculations = csv.writer(calculations, delimiter=',', quotechar='\"', quoting=csv.QUOTE_MINIMAL)\n",
    "    calculations.writerow(['source', 'numKins', 'numKSI', 'num uSubs'])\n",
    "    for file in filenames:\n",
    "        if \"input\" not in file:\n",
    "            fileInput = fileinput.FileInput('{0}'.format(file))\n",
    "            numKins = 0 # Number of kinases in file\n",
    "            numKSI = 0 # Number of KSI in file\n",
    "            uSubs = set() # Set of unique substrates in file\n",
    "            for line in fileInput:\n",
    "                lst = line.split('\\t')\n",
    "                numKins += 1\n",
    "                numKSI += (len(lst) - 1)\n",
    "                {uSubs.add(x) for x in lst[1:len(lst) - 2]}\n",
    "                uSubs.add(lst[len(lst) - 1].strip()) # Might have \\n trailing\n",
    "            if(numKins != 0):\n",
    "                calculations.writerow([file.split('/')[7], numKins, numKSI, len(uSubs)])\n",
    "            if file.split('/')[7]  == \"input\":\n",
    "                print(file)\n",
    "            #print('{0}\\tnumKins: {1}\\tnumKSI: {2}\\tnum uSubs: {3}'.format(file.split('/')[7], numKins, numKSI, len(uSubs)))"
   ]
  },
  {
   "cell_type": "code",
   "execution_count": null,
   "metadata": {},
   "outputs": [],
   "source": []
  }
 ],
 "metadata": {
  "kernelspec": {
   "display_name": "Python 3",
   "language": "python",
   "name": "python3"
  },
  "language_info": {
   "codemirror_mode": {
    "name": "ipython",
    "version": 3
   },
   "file_extension": ".py",
   "mimetype": "text/x-python",
   "name": "python",
   "nbconvert_exporter": "python",
   "pygments_lexer": "ipython3",
   "version": "3.7.3"
  }
 },
 "nbformat": 4,
 "nbformat_minor": 2
}
