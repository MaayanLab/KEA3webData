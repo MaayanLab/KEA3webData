{
 "cells": [
  {
   "cell_type": "code",
   "execution_count": 2,
   "metadata": {},
   "outputs": [],
   "source": [
    "import pandas as pd\n",
    "import re\n",
    "import csv"
   ]
  },
  {
   "cell_type": "code",
   "execution_count": 3,
   "metadata": {},
   "outputs": [],
   "source": [
    "df = pd.read_csv('input/Kinase_Substrate_Dataset EDITED', delimiter = '\\t')\n",
    "df = df[df.KIN_ORGANISM == df.SUB_ORGANISM]\n",
    "df = df.loc[:, ['KIN_ORGANISM', 'SUB_ORGANISM', 'GENE', 'SUB_GENE', 'SUB_MOD_RSD']]\n",
    "df['SUB_PHOS'] = df['SUB_GENE'] + '_' + df['SUB_MOD_RSD']\n",
    "\n",
    "#d = dict((o, [set(), set()]) for o in ['human', 'mouse', 'rat'])\n",
    "d = dict((o, {}) for o in ['human', 'mouse', 'rat'])\n",
    "org = list(df.loc[:, 'KIN_ORGANISM'])\n",
    "gene1 = list(df.loc[:, 'GENE'])\n",
    "gene2 = list(df.loc[:, 'SUB_GENE'])\n",
    "psites = list(df.loc[:, 'SUB_PHOS'])\n",
    "\n",
    "for o, o2, g1, g2, p in zip(org, list(df.loc[:, 'SUB_ORGANISM']), gene1, gene2, psites):\n",
    "    if g2 == g2 and p == p: # check if NaN\n",
    "        if o in d:\n",
    "            if g1 not in d[o]:\n",
    "                d[o][g1] = [{p}, {g2}]\n",
    "            else:\n",
    "                d[o][g1][0].add(p)\n",
    "                d[o][g1][1].add(g2)\n",
    "                "
   ]
  },
  {
   "cell_type": "code",
   "execution_count": 6,
   "metadata": {},
   "outputs": [
    {
     "name": "stdout",
     "output_type": "stream",
     "text": [
      "human\n",
      "#kin: 359\t#ksi: 508\t#usubs: 7338\n"
     ]
    }
   ],
   "source": [
    "o = 'human'\n",
    "'''allwp = open('output-withphosphosite_dbPTM_all_{0}.gmt'.format(o), 'w+') # w phosphosite\n",
    "fwp = open('output-withphosphosite_dbPTM_fourplusinteractions_{0}.gmt'.format(o), 'w+')\n",
    "allnp = open('output_dbPTM_all_{0}.gmt'.format(o), 'w+')\n",
    "fnp = open('output_dbPTM_fourplusinteractions_{0}.gmt'.format(o), 'w+')'''\n",
    "allwp = open('output-withphos_human.gmt'.format(o), 'w+')\n",
    "fwp = open('output-withphos_4+_{0}.gmt'.format(o), 'w+')\n",
    "allnp = open('output_{0}.gmt'.format(o), 'w+')\n",
    "fnp = open('output_4+_{0}.gmt'.format(o), 'w+')\n",
    "\n",
    "uSubs = set()\n",
    "numKSI = 0\n",
    "for k in d[o]:\n",
    "    if len(d[o][k][0]) >= 4:\n",
    "        numKSI += len(d[o][k])\n",
    "        {uSubs.add(x) for x in d[o][k][0]}\n",
    "\n",
    "        temp = list(d[o][k][0].copy()) # sub_phos\n",
    "        temp.insert(0, '{0}_phosphositeplus_{1}'.format(k, o))\n",
    "        temp1 = list(d[o][k][1].copy()) # sub\n",
    "        temp1.insert(0, '{0}_phosphositeplus_{1}'.format(k, o))\n",
    "\n",
    "        # write to _four            \n",
    "        fwp.write('\\t'.join(temp) + '\\n')\n",
    "        fnp.write('\\t'.join(temp1) + '\\n')\n",
    "\n",
    "        # write to _all\n",
    "        allwp.write('\\t'.join(temp) + '\\n')\n",
    "        allnp.write('\\t'.join(temp1) + '\\n')\n",
    "\n",
    "    else:\n",
    "        temp = list(d[o][k][0])\n",
    "        temp.insert(0, '{0}_phosphositeplus_{1}'.format(k, o))\n",
    "        temp1 = list(d[o][k][1])\n",
    "        temp1.insert(0, '{0}_phosphositeplus_{1}'.format(k, o))\n",
    "\n",
    "        allwp.write('\\t'.join(temp) + '\\n')\n",
    "        allnp.write('\\t'.join(temp1) + '\\n')\n",
    "\n",
    "\n",
    "print('{0}\\n#kin: {1}\\t#ksi: {2}\\t#usubs: {3}'.format(o, len(d[o]), numKSI, len(uSubs)))\n",
    "\n",
    "\n",
    "allwp.close()\n",
    "fwp.close()\n",
    "allnp.close()\n",
    "fnp.close()\n",
    "#.write('\\t'.join(list) + '\\n')"
   ]
  },
  {
   "cell_type": "code",
   "execution_count": 8,
   "metadata": {},
   "outputs": [
    {
     "name": "stdout",
     "output_type": "stream",
     "text": [
      "mouse\n",
      "#kin: 185\t#ksi: 174\t#usubs: 1206\n"
     ]
    }
   ],
   "source": [
    "o = 'mouse'\n",
    "'''allwp = open('output-withphosphosite_dbPTM_all_{0}.gmt'.format(o), 'w+') # w phosphosite\n",
    "fwp = open('output-withphosphosite_dbPTM_fourplusinteractions_{0}.gmt'.format(o), 'w+')\n",
    "allnp = open('output_dbPTM_all_{0}.gmt'.format(o), 'w+')\n",
    "fnp = open('output_dbPTM_fourplusinteractions_{0}.gmt'.format(o), 'w+')'''\n",
    "allwp = open('output-withphos_human.gmt'.format(o), 'w+')\n",
    "fwp = open('output-withphos_4+_{0}.gmt'.format(o), 'w+')\n",
    "allnp = open('output_{0}.gmt'.format(o), 'w+')\n",
    "fnp = open('output_4+_{0}.gmt'.format(o), 'w+')\n",
    "\n",
    "uSubs = set()\n",
    "numKSI = 0\n",
    "for k in d[o]:\n",
    "    if len(d[o][k][0]) >= 4:\n",
    "        numKSI += len(d[o][k])\n",
    "        {uSubs.add(x) for x in d[o][k][0]}\n",
    "\n",
    "        temp = list(d[o][k][0].copy()) # sub_phos\n",
    "        temp.insert(0, '{0}_phosphositeplus_{1}'.format(k, o))\n",
    "        temp1 = list(d[o][k][1].copy()) # sub\n",
    "        temp1.insert(0, '{0}_phosphositeplus_{1}'.format(k, o))\n",
    "\n",
    "        # write to _four            \n",
    "        fwp.write('\\t'.join(temp) + '\\n')\n",
    "        fnp.write('\\t'.join(temp1) + '\\n')\n",
    "\n",
    "        # write to _all\n",
    "        allwp.write('\\t'.join(temp) + '\\n')\n",
    "        allnp.write('\\t'.join(temp1) + '\\n')\n",
    "\n",
    "    else:\n",
    "        temp = list(d[o][k][0])\n",
    "        temp.insert(0, '{0}_phosphositeplus_{1}'.format(k, o))\n",
    "        temp1 = list(d[o][k][1])\n",
    "        temp1.insert(0, '{0}_phosphositeplus_{1}'.format(k, o))\n",
    "\n",
    "        allwp.write('\\t'.join(temp) + '\\n')\n",
    "        allnp.write('\\t'.join(temp1) + '\\n')\n",
    "\n",
    "\n",
    "print('{0}\\n#kin: {1}\\t#ksi: {2}\\t#usubs: {3}'.format(o, len(d[o]), numKSI, len(uSubs)))\n",
    "\n",
    "\n",
    "allwp.close()\n",
    "fwp.close()\n",
    "allnp.close()\n",
    "fnp.close()\n",
    "#.write('\\t'.join(list) + '\\n')"
   ]
  },
  {
   "cell_type": "code",
   "execution_count": 59,
   "metadata": {},
   "outputs": [
    {
     "name": "stdout",
     "output_type": "stream",
     "text": [
      "rat\n",
      "#kin: 91\t#ksi: 98\t#usubs: 645\n"
     ]
    }
   ],
   "source": [
    "o = 'rat'\n",
    "'''allwp = open('output-withphosphosite_dbPTM_all_{0}.gmt'.format(o), 'w+') # w phosphosite\n",
    "fwp = open('output-withphosphosite_dbPTM_fourplusinteractions_{0}.gmt'.format(o), 'w+')\n",
    "allnp = open('output_dbPTM_all_{0}.gmt'.format(o), 'w+')\n",
    "fnp = open('output_dbPTM_fourplusinteractions_{0}.gmt'.format(o), 'w+')'''\n",
    "allwp = open('output-withphos_human.gmt'.format(o), 'w+')\n",
    "fwp = open('output-withphos_4+_{0}.gmt'.format(o), 'w+')\n",
    "allnp = open('output_{0}.gmt'.format(o), 'w+')\n",
    "fnp = open('output_4+_{0}.gmt'.format(o), 'w+')\n",
    "\n",
    "uSubs = set()\n",
    "numKSI = 0\n",
    "for k in d[o]:\n",
    "    if len(d[o][k][0]) >= 4:\n",
    "        numKSI += len(d[o][k])\n",
    "        {uSubs.add(x) for x in d[o][k][0]}\n",
    "\n",
    "        temp = list(d[o][k][0].copy()) # sub_phos\n",
    "        temp.insert(0, '{0}_phosphositeplus_{1}'.format(k, o))\n",
    "        temp1 = list(d[o][k][1].copy()) # sub\n",
    "        temp1.insert(0, '{0}_phosphositeplus_{1}'.format(k, o))\n",
    "\n",
    "        # write to _four            \n",
    "        fwp.write('\\t'.join(temp) + '\\n')\n",
    "        fnp.write('\\t'.join(temp1) + '\\n')\n",
    "\n",
    "        # write to _all\n",
    "        allwp.write('\\t'.join(temp) + '\\n')\n",
    "        allnp.write('\\t'.join(temp1) + '\\n')\n",
    "\n",
    "    else:\n",
    "        temp = list(d[o][k][0])\n",
    "        temp.insert(0, '{0}_phosphositeplus_{1}'.format(k, o))\n",
    "        temp1 = list(d[o][k][1])\n",
    "        temp1.insert(0, '{0}_phosphositeplus_{1}'.format(k, o))\n",
    "\n",
    "        allwp.write('\\t'.join(temp) + '\\n')\n",
    "        allnp.write('\\t'.join(temp1) + '\\n')\n",
    "\n",
    "\n",
    "print('{0}\\n#kin: {1}\\t#ksi: {2}\\t#usubs: {3}'.format(o, len(d[o]), numKSI, len(uSubs)))\n",
    "\n",
    "\n",
    "allwp.close()\n",
    "fwp.close()\n",
    "allnp.close()\n",
    "fnp.close()\n",
    "#.write('\\t'.join(list) + '\\n')"
   ]
  },
  {
   "cell_type": "code",
   "execution_count": null,
   "metadata": {},
   "outputs": [],
   "source": []
  },
  {
   "cell_type": "code",
   "execution_count": null,
   "metadata": {},
   "outputs": [],
   "source": []
  }
 ],
 "metadata": {
  "kernelspec": {
   "display_name": "Python 3",
   "language": "python",
   "name": "python3"
  },
  "language_info": {
   "codemirror_mode": {
    "name": "ipython",
    "version": 3
   },
   "file_extension": ".py",
   "mimetype": "text/x-python",
   "name": "python",
   "nbconvert_exporter": "python",
   "pygments_lexer": "ipython3",
   "version": "3.7.3"
  }
 },
 "nbformat": 4,
 "nbformat_minor": 2
}
