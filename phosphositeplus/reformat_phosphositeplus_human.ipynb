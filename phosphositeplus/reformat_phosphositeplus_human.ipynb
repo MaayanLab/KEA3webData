{
 "cells": [
  {
   "cell_type": "code",
   "execution_count": 1,
   "metadata": {},
   "outputs": [],
   "source": [
    "import pandas as pd\n",
    "import re\n",
    "import csv"
   ]
  },
  {
   "cell_type": "code",
   "execution_count": 2,
   "metadata": {},
   "outputs": [
    {
     "data": {
      "text/html": [
       "<div>\n",
       "<style scoped>\n",
       "    .dataframe tbody tr th:only-of-type {\n",
       "        vertical-align: middle;\n",
       "    }\n",
       "\n",
       "    .dataframe tbody tr th {\n",
       "        vertical-align: top;\n",
       "    }\n",
       "\n",
       "    .dataframe thead th {\n",
       "        text-align: right;\n",
       "    }\n",
       "</style>\n",
       "<table border=\"1\" class=\"dataframe\">\n",
       "  <thead>\n",
       "    <tr style=\"text-align: right;\">\n",
       "      <th></th>\n",
       "      <th>KIN_ORGANISM</th>\n",
       "      <th>SUB_ORGANISM</th>\n",
       "      <th>GENE</th>\n",
       "      <th>SUB_GENE</th>\n",
       "      <th>SUB_MOD_RSD</th>\n",
       "      <th>SUB_PHOS</th>\n",
       "    </tr>\n",
       "  </thead>\n",
       "  <tbody>\n",
       "    <tr>\n",
       "      <th>6</th>\n",
       "      <td>human</td>\n",
       "      <td>human</td>\n",
       "      <td>EIF2AK1</td>\n",
       "      <td>EIF2S1</td>\n",
       "      <td>S52</td>\n",
       "      <td>EIF2S1_S52</td>\n",
       "    </tr>\n",
       "    <tr>\n",
       "      <th>7</th>\n",
       "      <td>human</td>\n",
       "      <td>human</td>\n",
       "      <td>EIF2AK1</td>\n",
       "      <td>EIF2S1</td>\n",
       "      <td>S49</td>\n",
       "      <td>EIF2S1_S49</td>\n",
       "    </tr>\n",
       "    <tr>\n",
       "      <th>10</th>\n",
       "      <td>human</td>\n",
       "      <td>human</td>\n",
       "      <td>PRKCD</td>\n",
       "      <td>HDAC5</td>\n",
       "      <td>S259</td>\n",
       "      <td>HDAC5_S259</td>\n",
       "    </tr>\n",
       "    <tr>\n",
       "      <th>11</th>\n",
       "      <td>human</td>\n",
       "      <td>human</td>\n",
       "      <td>PRKCD</td>\n",
       "      <td>PTPRA</td>\n",
       "      <td>S204</td>\n",
       "      <td>PTPRA_S204</td>\n",
       "    </tr>\n",
       "    <tr>\n",
       "      <th>12</th>\n",
       "      <td>human</td>\n",
       "      <td>human</td>\n",
       "      <td>PRKCD</td>\n",
       "      <td>HNRNPK</td>\n",
       "      <td>S302</td>\n",
       "      <td>HNRNPK_S302</td>\n",
       "    </tr>\n",
       "  </tbody>\n",
       "</table>\n",
       "</div>"
      ],
      "text/plain": [
       "   KIN_ORGANISM SUB_ORGANISM     GENE SUB_GENE SUB_MOD_RSD     SUB_PHOS\n",
       "6         human        human  EIF2AK1   EIF2S1         S52   EIF2S1_S52\n",
       "7         human        human  EIF2AK1   EIF2S1         S49   EIF2S1_S49\n",
       "10        human        human    PRKCD    HDAC5        S259   HDAC5_S259\n",
       "11        human        human    PRKCD    PTPRA        S204   PTPRA_S204\n",
       "12        human        human    PRKCD   HNRNPK        S302  HNRNPK_S302"
      ]
     },
     "execution_count": 2,
     "metadata": {},
     "output_type": "execute_result"
    }
   ],
   "source": [
    "o = 'human'\n",
    "\n",
    "df = pd.read_csv('input/Kinase_Substrate_Dataset EDITED', delimiter = '\\t')\n",
    "df = df[df.KIN_ORGANISM == df.SUB_ORGANISM]\n",
    "df = df[df.KIN_ORGANISM == o]\n",
    "df = df.loc[:, ['KIN_ORGANISM', 'SUB_ORGANISM', 'GENE', 'SUB_GENE', 'SUB_MOD_RSD']]\n",
    "df['SUB_PHOS'] = df['SUB_GENE'] + '_' + df['SUB_MOD_RSD']\n",
    "df.head()"
   ]
  },
  {
   "cell_type": "code",
   "execution_count": 3,
   "metadata": {},
   "outputs": [
    {
     "name": "stdout",
     "output_type": "stream",
     "text": [
      "359\n"
     ]
    }
   ],
   "source": [
    "#d = dict((o, [set(), set()]) for o in ['human', 'mouse', 'rat'])\n",
    "d = {}\n",
    "org = list(df.loc[:, 'KIN_ORGANISM'])\n",
    "gene1 = list(df.loc[:, 'GENE'])\n",
    "gene2 = list(df.loc[:, 'SUB_GENE'])\n",
    "psites = list(df.loc[:, 'SUB_PHOS'])\n",
    "\n",
    "for g1, g2, p in zip(gene1, gene2, psites):\n",
    "    if g2 == g2 and p == p: # check if NaN\n",
    "        if g1 not in d:\n",
    "            d[g1] = [{p}, {g2}]\n",
    "        else:\n",
    "            d[g1][0].add(p)\n",
    "            d[g1][1].add(g2)\n",
    "            \n",
    "print(len(d))\n"
   ]
  },
  {
   "cell_type": "code",
   "execution_count": 4,
   "metadata": {},
   "outputs": [
    {
     "name": "stdout",
     "output_type": "stream",
     "text": [
      "human\n",
      "#kin: 190\t#ksi: 5379\t#usubs: 2286\n"
     ]
    }
   ],
   "source": [
    "allwp = open('output-withphosphosite_phosphositeplus_all_{0}.gmt'.format(o), 'w+') # w phosphosite\n",
    "fwp = open('output-withphosphosite_phosphositeplus_fourplusinteractions_{0}.gmt'.format(o), 'w+')\n",
    "allnp = open('output_phosphositeplus_all_{0}.gmt'.format(o), 'w+')\n",
    "fnp = open('output_phosphositeplus_fourplusinteractions_{0}.gmt'.format(o), 'w+')\n",
    "\n",
    "uSubs = set()\n",
    "numKSI = 0\n",
    "numKins = 0\n",
    "for k in d:\n",
    "    # list of substrates for k\n",
    "    temp = list(d[k][0]) # {sub_phos}\n",
    "    temp1 = list(d[k][1]) # {sub}\n",
    "    \n",
    "    if len(d[k][1]) >= 4:\n",
    "        # update counts\n",
    "        numKSI += len(d[k][1])\n",
    "        {uSubs.add(x) for x in d[k][1]}\n",
    "        numKins += 1\n",
    "\n",
    "        # add kinase info\n",
    "        temp.insert(0, '{0}_phosphositeplus_{1}'.format(k, o))\n",
    "        temp1.insert(0, '{0}_phosphositeplus_{1}'.format(k, o))\n",
    "\n",
    "        # write to _four            \n",
    "        #fwp.write('\\t'.join(temp) + '\\n')\n",
    "        fnp.write('\\t'.join(temp1) + '\\n')\n",
    "\n",
    "        # write to _all\n",
    "        allwp.write('\\t'.join(temp) + '\\n')\n",
    "        allnp.write('\\t'.join(temp1) + '\\n')\n",
    "\n",
    "    else:\n",
    "        temp.insert(0, '{0}_phosphositeplus_{1}'.format(k, o))        \n",
    "        temp1.insert(0, '{0}_phosphositeplus_{1}'.format(k, o))\n",
    "\n",
    "        allwp.write('\\t'.join(temp) + '\\n')\n",
    "        allnp.write('\\t'.join(temp1) + '\\n')\n",
    "\n",
    "\n",
    "print('{0}\\n#kin: {1}\\t#ksi: {2}\\t#usubs: {3}'.format(o, numKins, numKSI, len(uSubs)))\n",
    "\n",
    "\n",
    "allwp.close()\n",
    "fwp.close()\n",
    "allnp.close()\n",
    "fnp.close()\n",
    "#.write('\\t'.join(list) + '\\n')"
   ]
  },
  {
   "cell_type": "code",
   "execution_count": null,
   "metadata": {},
   "outputs": [],
   "source": []
  },
  {
   "cell_type": "code",
   "execution_count": null,
   "metadata": {},
   "outputs": [],
   "source": []
  }
 ],
 "metadata": {
  "kernelspec": {
   "display_name": "Python 3",
   "language": "python",
   "name": "python3"
  },
  "language_info": {
   "codemirror_mode": {
    "name": "ipython",
    "version": 3
   },
   "file_extension": ".py",
   "mimetype": "text/x-python",
   "name": "python",
   "nbconvert_exporter": "python",
   "pygments_lexer": "ipython3",
   "version": "3.7.3"
  }
 },
 "nbformat": 4,
 "nbformat_minor": 2
}
