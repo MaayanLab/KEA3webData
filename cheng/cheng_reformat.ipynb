{
 "cells": [
  {
   "cell_type": "code",
   "execution_count": 1,
   "metadata": {},
   "outputs": [],
   "source": [
    "import pandas as pd\n",
    "import fileinput"
   ]
  },
  {
   "cell_type": "code",
   "execution_count": 2,
   "metadata": {},
   "outputs": [
    {
     "name": "stdout",
     "output_type": "stream",
     "text": [
      "human\t#kins: 368\t#ksi: 15225\t#usubs: 4445\n"
     ]
    }
   ],
   "source": [
    "### data from both ksin and ppin\n",
    "\n",
    "inp = fileinput.FileInput('input/kinases_human.txt')\n",
    "pkin = []\n",
    "for line in inp:\n",
    "    pkin.append(line.split('\\n')[0])\n",
    "    \n",
    "d = {}\n",
    "df = pd.read_csv('input/ksin.csv')\n",
    "for k, s in zip(df.iloc[:, 0], df.iloc[:, 5]):\n",
    "    if k not in d:\n",
    "        d[k] = {s}\n",
    "    else:\n",
    "        d[k].add(s)\n",
    "        \n",
    "        \n",
    "df1 = pd.read_csv('input/ppin.csv')\n",
    "for p1, p2 in zip(df1.iloc[:, 0], df1.iloc[:, 5]):\n",
    "    if p1 in pkin:\n",
    "        if p1 not in d:\n",
    "            d[p1] = {p2}\n",
    "        else:\n",
    "            d[p1].add(p2)\n",
    "    if p2 in pkin:\n",
    "        if p2 not in d:\n",
    "            d[p2] = {p1}\n",
    "        else:\n",
    "            d[p2].add(p1)\n",
    "            \n",
    "allnp = open('output_cheng_all_human.gmt', 'w+')\n",
    "fnp = open('output_cheng_fourplusinteractions_human.gmt', 'w+')\n",
    "uSubs = set()\n",
    "numKSI = 0\n",
    "numKins = 0\n",
    "for k in d:\n",
    "    temp = set()\n",
    "    for x in d[k]:\n",
    "        if x != x:\n",
    "            temp.add(k)\n",
    "        else:\n",
    "            temp.add(x)\n",
    "            \n",
    "    allnp.write('{0}_cheng_human\\t'.format(k) + '\\t'.join(temp) + '\\n')\n",
    "    if len(temp) >= 4:\n",
    "        numKSI += len(temp)\n",
    "        numKins += 1\n",
    "        {uSubs.add(x) for x in temp}\n",
    "        fnp.write('{0}_cheng_human\\t'.format(k) + '\\t'.join(temp) + '\\n')\n",
    "    \n",
    "        \n",
    "print('{0}\\t#kins: {1}\\t#ksi: {2}\\t#usubs: {3}'.format('human', numKins, numKSI, len(uSubs)))\n",
    "\n",
    "allnp.close()\n",
    "fnp.close()\n"
   ]
  },
  {
   "cell_type": "code",
   "execution_count": 3,
   "metadata": {},
   "outputs": [],
   "source": [
    "x = [k for k in d if k not in pkin] ## 138 kinases in ksin that aren't defined in pkin\n",
    "#print(x)"
   ]
  },
  {
   "cell_type": "code",
   "execution_count": null,
   "metadata": {},
   "outputs": [],
   "source": []
  }
 ],
 "metadata": {
  "kernelspec": {
   "display_name": "Python 3",
   "language": "python",
   "name": "python3"
  },
  "language_info": {
   "codemirror_mode": {
    "name": "ipython",
    "version": 3
   },
   "file_extension": ".py",
   "mimetype": "text/x-python",
   "name": "python",
   "nbconvert_exporter": "python",
   "pygments_lexer": "ipython3",
   "version": "3.7.3"
  }
 },
 "nbformat": 4,
 "nbformat_minor": 2
}
