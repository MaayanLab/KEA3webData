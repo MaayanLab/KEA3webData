{
 "cells": [
  {
   "cell_type": "code",
   "execution_count": 1,
   "metadata": {},
   "outputs": [],
   "source": [
    "### Generates output with phosphosites\n",
    "\n",
    "import pandas as pd\n",
    "import fileinput"
   ]
  },
  {
   "cell_type": "code",
   "execution_count": 2,
   "metadata": {},
   "outputs": [
    {
     "data": {
      "text/html": [
       "<div>\n",
       "<style scoped>\n",
       "    .dataframe tbody tr th:only-of-type {\n",
       "        vertical-align: middle;\n",
       "    }\n",
       "\n",
       "    .dataframe tbody tr th {\n",
       "        vertical-align: top;\n",
       "    }\n",
       "\n",
       "    .dataframe thead th {\n",
       "        text-align: right;\n",
       "    }\n",
       "</style>\n",
       "<table border=\"1\" class=\"dataframe\">\n",
       "  <thead>\n",
       "    <tr style=\"text-align: right;\">\n",
       "      <th></th>\n",
       "      <th>kinases</th>\n",
       "      <th>psites</th>\n",
       "    </tr>\n",
       "  </thead>\n",
       "  <tbody>\n",
       "    <tr>\n",
       "      <th>14</th>\n",
       "      <td>Lck</td>\n",
       "      <td>Y204</td>\n",
       "    </tr>\n",
       "    <tr>\n",
       "      <th>16</th>\n",
       "      <td>Lck</td>\n",
       "      <td>Y221</td>\n",
       "    </tr>\n",
       "    <tr>\n",
       "      <th>18</th>\n",
       "      <td>PKB_group</td>\n",
       "      <td>S824</td>\n",
       "    </tr>\n",
       "    <tr>\n",
       "      <th>20</th>\n",
       "      <td>PKB_group</td>\n",
       "      <td>S227</td>\n",
       "    </tr>\n",
       "    <tr>\n",
       "      <th>21</th>\n",
       "      <td>SRC</td>\n",
       "      <td>Y707</td>\n",
       "    </tr>\n",
       "    <tr>\n",
       "      <th>27</th>\n",
       "      <td>IKK_group</td>\n",
       "      <td>S740</td>\n",
       "    </tr>\n",
       "    <tr>\n",
       "      <th>28</th>\n",
       "      <td>IKK_group</td>\n",
       "      <td>S675</td>\n",
       "    </tr>\n",
       "    <tr>\n",
       "      <th>29</th>\n",
       "      <td>IKK_group</td>\n",
       "      <td>S689</td>\n",
       "    </tr>\n",
       "    <tr>\n",
       "      <th>30</th>\n",
       "      <td>IKK_group</td>\n",
       "      <td>S705</td>\n",
       "    </tr>\n",
       "    <tr>\n",
       "      <th>31</th>\n",
       "      <td>IKK_group</td>\n",
       "      <td>S682</td>\n",
       "    </tr>\n",
       "  </tbody>\n",
       "</table>\n",
       "</div>"
      ],
      "text/plain": [
       "      kinases psites\n",
       "14        Lck   Y204\n",
       "16        Lck   Y221\n",
       "18  PKB_group   S824\n",
       "20  PKB_group   S227\n",
       "21        SRC   Y707\n",
       "27  IKK_group   S740\n",
       "28  IKK_group   S675\n",
       "29  IKK_group   S689\n",
       "30  IKK_group   S705\n",
       "31  IKK_group   S682"
      ]
     },
     "execution_count": 2,
     "metadata": {},
     "output_type": "execute_result"
    }
   ],
   "source": [
    "# read in data ----- there is also mouse and rat data. i will only be using human for now\n",
    "df = pd.read_csv('input/phosphoELM_vertebrate_2015-04.dump', sep = '\\t')\n",
    "df = df.dropna(subset = ['kinases'])\n",
    "df = df[df.species == 'Homo sapiens'] # only using human data\n",
    "df['psites'] = df['code'].map(str) + df['position'].map(str)\n",
    "\n",
    "df.loc[:, ['kinases','psites']].head(10)"
   ]
  },
  {
   "cell_type": "code",
   "execution_count": 3,
   "metadata": {},
   "outputs": [],
   "source": [
    "# file with gene symbol and uniprotid\n",
    "df1 = pd.read_csv('input/genesymboltouniprot_hgnc.txt', sep = '\\t')\n",
    "df1 = df1.dropna()\n",
    "df1.head()\n",
    "\n",
    "# map uniprot id to list of approved symbols\n",
    "di = {} # {uniprot id, [approved symbol(s)]}\n",
    "for p1, p2 in zip(list(df1.loc[:, 'Approved symbol']), list(df1.loc[:, 'UniProt ID(supplied by UniProt)'])):\n",
    "    if p2 in di:\n",
    "        di[p2].append(p1)\n",
    "    else:\n",
    "        di[p2] = [p1]"
   ]
  },
  {
   "cell_type": "code",
   "execution_count": 4,
   "metadata": {},
   "outputs": [],
   "source": [
    "# read in list of human kinases\n",
    "inp = fileinput.FileInput('input/kinases_human.txt')\n",
    "pkin = []\n",
    "for line in inp:\n",
    "    pkin.append(line.split('\\n')[0])\n"
   ]
  },
  {
   "cell_type": "code",
   "execution_count": 5,
   "metadata": {
    "scrolled": true
   },
   "outputs": [
    {
     "data": {
      "text/html": [
       "<div>\n",
       "<style scoped>\n",
       "    .dataframe tbody tr th:only-of-type {\n",
       "        vertical-align: middle;\n",
       "    }\n",
       "\n",
       "    .dataframe tbody tr th {\n",
       "        vertical-align: top;\n",
       "    }\n",
       "\n",
       "    .dataframe thead th {\n",
       "        text-align: right;\n",
       "    }\n",
       "</style>\n",
       "<table border=\"1\" class=\"dataframe\">\n",
       "  <thead>\n",
       "    <tr style=\"text-align: right;\">\n",
       "      <th></th>\n",
       "      <th>acc</th>\n",
       "      <th>kinases</th>\n",
       "      <th>psites</th>\n",
       "    </tr>\n",
       "  </thead>\n",
       "  <tbody>\n",
       "    <tr>\n",
       "      <th>14</th>\n",
       "      <td>O14543</td>\n",
       "      <td>Lck</td>\n",
       "      <td>Y204</td>\n",
       "    </tr>\n",
       "    <tr>\n",
       "      <th>16</th>\n",
       "      <td>O14543</td>\n",
       "      <td>Lck</td>\n",
       "      <td>Y221</td>\n",
       "    </tr>\n",
       "    <tr>\n",
       "      <th>18</th>\n",
       "      <td>O14746</td>\n",
       "      <td>PKB_group</td>\n",
       "      <td>S824</td>\n",
       "    </tr>\n",
       "    <tr>\n",
       "      <th>20</th>\n",
       "      <td>O14746</td>\n",
       "      <td>PKB_group</td>\n",
       "      <td>S227</td>\n",
       "    </tr>\n",
       "    <tr>\n",
       "      <th>21</th>\n",
       "      <td>O14746</td>\n",
       "      <td>SRC</td>\n",
       "      <td>Y707</td>\n",
       "    </tr>\n",
       "  </tbody>\n",
       "</table>\n",
       "</div>"
      ],
      "text/plain": [
       "       acc    kinases psites\n",
       "14  O14543        Lck   Y204\n",
       "16  O14543        Lck   Y221\n",
       "18  O14746  PKB_group   S824\n",
       "20  O14746  PKB_group   S227\n",
       "21  O14746        SRC   Y707"
      ]
     },
     "execution_count": 5,
     "metadata": {},
     "output_type": "execute_result"
    }
   ],
   "source": [
    "df.loc[:, ['acc', 'kinases', 'psites']].head()"
   ]
  },
  {
   "cell_type": "code",
   "execution_count": 6,
   "metadata": {},
   "outputs": [
    {
     "name": "stdout",
     "output_type": "stream",
     "text": [
      "77\n"
     ]
    }
   ],
   "source": [
    "# find ksis -- filtering using pkin because some 'kinases' in table are kinase groups\n",
    "d = {}\n",
    "d1 = {}\n",
    "for p1, k, psite in zip(df.loc[:, 'acc'], df.loc[:, 'kinases'], df.loc[:, 'psites']): # acc is uniprot id for substrate\n",
    "    if p1 in di:\n",
    "        p1 = di[p1]\n",
    "        if k in pkin:\n",
    "            for x in p1:\n",
    "                if k not in d:\n",
    "                    d[k] = {'{0}_{1}'.format(x, psite)}\n",
    "                    d1[k] = {x}\n",
    "                else:\n",
    "                    d[k].add('{0}_{1}'.format(x, psite))\n",
    "                    d1[k].add(x)\n",
    "print(len(d))"
   ]
  },
  {
   "cell_type": "code",
   "execution_count": 7,
   "metadata": {},
   "outputs": [
    {
     "name": "stdout",
     "output_type": "stream",
     "text": [
      "human\t#kins: 27\t#ksi: 416\t#usubs: 312\n"
     ]
    }
   ],
   "source": [
    "# write to file, do calculations\n",
    "allnp = open('output_phosphoelm_all_human.gmt', 'w+')\n",
    "fnp = open('output_phosphoelm_fourplusinteractions_human.gmt', 'w+')\n",
    "allwp = open('output-withphosphosite_phosphoelm_all_human.gmt', 'w+')\n",
    "#fwp = open('output-withphosphosite_phosphoelm_fourplusinteractions_human.gmt', 'w+')\n",
    "uSubs = set()\n",
    "numKSI = 0\n",
    "numKins = 0\n",
    "for k in d:\n",
    "    if len(d1[k]) >= 4:\n",
    "        numKSI += len(d1[k])\n",
    "        numKins += 1\n",
    "        {uSubs.add(x) for x in d1[k]}\n",
    "        fnp.write('{0}_phosphoelm_human\\t'.format(k) + '\\t'.join(d1[k]) + '\\n')\n",
    "        #fwp.write('{0}_phosphoelm_human\\t'.format(k) + '\\t'.join(d1[k]) + '\\n')\n",
    "    else:\n",
    "        allnp.write('{0}_phosphoelm_human\\t'.format(k) + '\\t'.join(d1[k]) + '\\n')\n",
    "        allwp.write('{0}_phosphoelm_human\\t'.format(k) + '\\t'.join(d[k]) + '\\n')\n",
    "    \n",
    "        \n",
    "print('{0}\\t#kins: {1}\\t#ksi: {2}\\t#usubs: {3}'.format('human', numKins, numKSI, len(uSubs)))\n",
    "\n",
    "allnp.close()\n",
    "fnp.close()\n",
    "allwp.close()\n",
    "#fwp.close()\n"
   ]
  },
  {
   "cell_type": "code",
   "execution_count": null,
   "metadata": {},
   "outputs": [],
   "source": []
  }
 ],
 "metadata": {
  "kernelspec": {
   "display_name": "Python 3",
   "language": "python",
   "name": "python3"
  },
  "language_info": {
   "codemirror_mode": {
    "name": "ipython",
    "version": 3
   },
   "file_extension": ".py",
   "mimetype": "text/x-python",
   "name": "python",
   "nbconvert_exporter": "python",
   "pygments_lexer": "ipython3",
   "version": "3.7.3"
  }
 },
 "nbformat": 4,
 "nbformat_minor": 2
}
